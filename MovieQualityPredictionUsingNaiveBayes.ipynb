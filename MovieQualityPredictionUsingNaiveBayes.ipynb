{
  "nbformat": 4,
  "nbformat_minor": 0,
  "metadata": {
    "colab": {
      "name": "a4-pandey-avnish.ipynb",
      "provenance": [],
      "collapsed_sections": [],
      "include_colab_link": true
    },
    "kernelspec": {
      "name": "python3",
      "display_name": "Python 3"
    }
  },
  "cells": [
    {
      "cell_type": "markdown",
      "metadata": {
        "id": "view-in-github",
        "colab_type": "text"
      },
      "source": [
        "<a href=\"https://colab.research.google.com/github/avnishpandey113/DataScienceProject/blob/master/MovieQualityPredictionUsingNaiveBayes.ipynb\" target=\"_parent\"><img src=\"https://colab.research.google.com/assets/colab-badge.svg\" alt=\"Open In Colab\"/></a>"
      ]
    },
    {
      "cell_type": "markdown",
      "metadata": {
        "id": "M0YYBtM5Z9-J",
        "colab_type": "text"
      },
      "source": [
        "**Name: Avnish Pandey**\n",
        "\n",
        "**ID: 200394057**\n",
        "\n",
        "**Email: akp817@uregina.ca**"
      ]
    },
    {
      "cell_type": "markdown",
      "metadata": {
        "id": "7D91EtHdlSlt",
        "colab_type": "text"
      },
      "source": [
        "In this activity, we will be developing a model based on the dataset we explored in assignment 3. "
      ]
    },
    {
      "cell_type": "code",
      "metadata": {
        "id": "mOEREtA526BY",
        "colab_type": "code",
        "colab": {}
      },
      "source": [
        "#importing google drive using colab\n",
        "from google.colab import drive"
      ],
      "execution_count": 0,
      "outputs": []
    },
    {
      "cell_type": "code",
      "metadata": {
        "id": "ogSDiJgs3EF7",
        "colab_type": "code",
        "outputId": "e83f41dd-837d-408d-c4fa-7b5a12a26978",
        "colab": {
          "base_uri": "https://localhost:8080/",
          "height": 121
        }
      },
      "source": [
        "#Authorizing colab to access files in google drive\n",
        "drive.mount('/content/gdrive')"
      ],
      "execution_count": 2,
      "outputs": [
        {
          "output_type": "stream",
          "text": [
            "Go to this URL in a browser: https://accounts.google.com/o/oauth2/auth?client_id=947318989803-6bn6qk8qdgf4n4g3pfee6491hc0brc4i.apps.googleusercontent.com&redirect_uri=urn%3aietf%3awg%3aoauth%3a2.0%3aoob&response_type=code&scope=email%20https%3a%2f%2fwww.googleapis.com%2fauth%2fdocs.test%20https%3a%2f%2fwww.googleapis.com%2fauth%2fdrive%20https%3a%2f%2fwww.googleapis.com%2fauth%2fdrive.photos.readonly%20https%3a%2f%2fwww.googleapis.com%2fauth%2fpeopleapi.readonly\n",
            "\n",
            "Enter your authorization code:\n",
            "··········\n",
            "Mounted at /content/gdrive\n"
          ],
          "name": "stdout"
        }
      ]
    },
    {
      "cell_type": "code",
      "metadata": {
        "id": "6H9_RzGM3HHk",
        "colab_type": "code",
        "outputId": "c175db9b-16ce-47c4-852f-3e816a28c62b",
        "colab": {
          "base_uri": "https://localhost:8080/",
          "height": 34
        }
      },
      "source": [
        "cd gdrive"
      ],
      "execution_count": 3,
      "outputs": [
        {
          "output_type": "stream",
          "text": [
            "/content/gdrive\n"
          ],
          "name": "stdout"
        }
      ]
    },
    {
      "cell_type": "code",
      "metadata": {
        "id": "lR4XhZLO3KOa",
        "colab_type": "code",
        "outputId": "64fdff51-6093-4042-f6e4-c2089220ce8b",
        "colab": {
          "base_uri": "https://localhost:8080/",
          "height": 34
        }
      },
      "source": [
        "cd My\\ Drive"
      ],
      "execution_count": 4,
      "outputs": [
        {
          "output_type": "stream",
          "text": [
            "/content/gdrive/My Drive\n"
          ],
          "name": "stdout"
        }
      ]
    },
    {
      "cell_type": "code",
      "metadata": {
        "id": "O_d5x8Qx3NHe",
        "colab_type": "code",
        "colab": {
          "base_uri": "https://localhost:8080/",
          "height": 70
        },
        "outputId": "ae45b0a3-3219-4f70-e1d9-11c8c1368a4d"
      },
      "source": [
        "#importing required python libraries to read and explore the dataset\n",
        "import numpy as np\n",
        "import pandas as pd\n",
        "import matplotlib.pyplot as plt\n",
        "from sklearn import preprocessing\n",
        "#Import Gaussian Naive Bayes model\n",
        "from sklearn.naive_bayes import GaussianNB\n",
        "# Import train_test_split function\n",
        "from sklearn.model_selection import train_test_split\n",
        "#Import scikit-learn metrics module for accuracy calculation\n",
        "from sklearn import metrics\n",
        "import seaborn as sns"
      ],
      "execution_count": 5,
      "outputs": [
        {
          "output_type": "stream",
          "text": [
            "/usr/local/lib/python3.6/dist-packages/statsmodels/tools/_testing.py:19: FutureWarning: pandas.util.testing is deprecated. Use the functions in the public API at pandas.testing instead.\n",
            "  import pandas.util.testing as tm\n"
          ],
          "name": "stderr"
        }
      ]
    },
    {
      "cell_type": "markdown",
      "metadata": {
        "id": "nApSQriEkf7W",
        "colab_type": "text"
      },
      "source": [
        "**Model Selection**   \n",
        "I followed the steps as described in the scikit learn algorithm to find the appropriate algorithm and model. Then I checked the conditions as per the diagram:  \n",
        "1. Total number of samples in the data are more than 50? [Yes]  \n",
        "Reason: Total 6820 entries.  \n",
        "2. Predicting a category?[Yes]  \n",
        "Reason: To determine whether a movie is poor/average/good/excellent.  \n",
        "3. Have labeled data? [Yes]  \n",
        "Reason:The data to be predicted is labelled as category.  \n",
        "4. Less than 100K samples for labelled data? [Yes]  \n",
        "Reason: Same as 1.  \n",
        "5. Will Linear SVC work? [No]  \n",
        "Reason: Works only for binary classifiers, and we have labelled text data with multiple values to classify. So it wont work.  \n",
        "6. Is it text data? [Yes]  \n",
        "Reason: Text data with label 'category'.  \n",
        "Thus I reached at naive bayes classification model.  \n",
        "\n",
        "Working of naive Bayes:\n",
        "This algorithm works on the Bayes theorem. Given the factors, it calculates the probability of an event and classifies it into a particular category or gives it a label. The factors are independent of each other. Let's understand it by an example: Given An animal can be considered an elephant, if it has 4 legs, trunk and weighs over 100 kg. The legs, trunks and weight are features and label is an elephant. The features may be related to each other, but Naive Bayes considers all of these properties independently contribute to the category that an animal is an elephant."
      ]
    },
    {
      "cell_type": "code",
      "metadata": {
        "id": "dZbwaZTz3Qx5",
        "colab_type": "code",
        "colab": {}
      },
      "source": [
        "#reading the csv dataset into dataframe\n",
        "movieDB= pd.read_csv('movies.csv', encoding = \"ISO-8859-1\")"
      ],
      "execution_count": 0,
      "outputs": []
    },
    {
      "cell_type": "code",
      "metadata": {
        "id": "TmAOPF6wzL6w",
        "colab_type": "code",
        "colab": {}
      },
      "source": [
        "#Removing irrelevant features\n",
        "movieDB.drop(['released','year', 'name'], axis = 1, inplace = True)"
      ],
      "execution_count": 0,
      "outputs": []
    },
    {
      "cell_type": "code",
      "metadata": {
        "id": "JvLj-eVVIPw_",
        "colab_type": "code",
        "colab": {}
      },
      "source": [
        "#replacing missing budget values with mean\n",
        "new_budget = np.where(movieDB[\"budget\"] == 0.0,\n",
        "                      2.458113e+07,\n",
        "                      movieDB[\"budget\"])"
      ],
      "execution_count": 0,
      "outputs": []
    },
    {
      "cell_type": "code",
      "metadata": {
        "id": "JSgdfh4lNeGv",
        "colab_type": "code",
        "colab": {}
      },
      "source": [
        "movieDB[\"budget\"] = new_budget"
      ],
      "execution_count": 0,
      "outputs": []
    },
    {
      "cell_type": "code",
      "metadata": {
        "id": "UGNzD6q5F3W2",
        "colab_type": "code",
        "colab": {}
      },
      "source": [
        "#adding category column to dataframe to classify movies based on score\n",
        "movieDB['category']= np.nan"
      ],
      "execution_count": 0,
      "outputs": []
    },
    {
      "cell_type": "markdown",
      "metadata": {
        "id": "J5J8_a1rB-N2",
        "colab_type": "text"
      },
      "source": [
        "The movie lies is given a \"Poor\" for 0-4 score, \"Average\" for 4-6 score, \"Good\" for 6 to 8 score and \"Best\" for above 8 score."
      ]
    },
    {
      "cell_type": "code",
      "metadata": {
        "id": "iWzDSKIQHZvV",
        "colab_type": "code",
        "colab": {}
      },
      "source": [
        "movieDB.loc[(movieDB['score'] >= 0) & (movieDB['score'] <= 4 ), ['category']] = 'Poor'\n",
        "movieDB.loc[(movieDB['score'] >4) & (movieDB['score'] <= 6 ), ['category']] = 'Average'\n",
        "movieDB.loc[(movieDB['score'] > 6) & (movieDB['score'] <= 8 ), ['category']] = 'Good'\n",
        "movieDB.loc[(movieDB['score'] >8) & (movieDB['score'] <= 10 ), ['category']] = 'Best'"
      ],
      "execution_count": 0,
      "outputs": []
    },
    {
      "cell_type": "code",
      "metadata": {
        "id": "VO0x329gHn8c",
        "colab_type": "code",
        "outputId": "fdb615d1-d702-4d66-a778-393cb9daaf3f",
        "colab": {
          "base_uri": "https://localhost:8080/",
          "height": 402
        }
      },
      "source": [
        "movieDB_copy = movieDB.copy()\n",
        "movieDB"
      ],
      "execution_count": 12,
      "outputs": [
        {
          "output_type": "execute_result",
          "data": {
            "text/html": [
              "<div>\n",
              "<style scoped>\n",
              "    .dataframe tbody tr th:only-of-type {\n",
              "        vertical-align: middle;\n",
              "    }\n",
              "\n",
              "    .dataframe tbody tr th {\n",
              "        vertical-align: top;\n",
              "    }\n",
              "\n",
              "    .dataframe thead th {\n",
              "        text-align: right;\n",
              "    }\n",
              "</style>\n",
              "<table border=\"1\" class=\"dataframe\">\n",
              "  <thead>\n",
              "    <tr style=\"text-align: right;\">\n",
              "      <th></th>\n",
              "      <th>budget</th>\n",
              "      <th>company</th>\n",
              "      <th>country</th>\n",
              "      <th>director</th>\n",
              "      <th>genre</th>\n",
              "      <th>gross</th>\n",
              "      <th>rating</th>\n",
              "      <th>runtime</th>\n",
              "      <th>score</th>\n",
              "      <th>star</th>\n",
              "      <th>votes</th>\n",
              "      <th>writer</th>\n",
              "      <th>category</th>\n",
              "    </tr>\n",
              "  </thead>\n",
              "  <tbody>\n",
              "    <tr>\n",
              "      <th>0</th>\n",
              "      <td>8000000.0</td>\n",
              "      <td>Columbia Pictures Corporation</td>\n",
              "      <td>USA</td>\n",
              "      <td>Rob Reiner</td>\n",
              "      <td>Adventure</td>\n",
              "      <td>52287414.0</td>\n",
              "      <td>R</td>\n",
              "      <td>89</td>\n",
              "      <td>8.1</td>\n",
              "      <td>Wil Wheaton</td>\n",
              "      <td>299174</td>\n",
              "      <td>Stephen King</td>\n",
              "      <td>Best</td>\n",
              "    </tr>\n",
              "    <tr>\n",
              "      <th>1</th>\n",
              "      <td>6000000.0</td>\n",
              "      <td>Paramount Pictures</td>\n",
              "      <td>USA</td>\n",
              "      <td>John Hughes</td>\n",
              "      <td>Comedy</td>\n",
              "      <td>70136369.0</td>\n",
              "      <td>PG-13</td>\n",
              "      <td>103</td>\n",
              "      <td>7.8</td>\n",
              "      <td>Matthew Broderick</td>\n",
              "      <td>264740</td>\n",
              "      <td>John Hughes</td>\n",
              "      <td>Good</td>\n",
              "    </tr>\n",
              "    <tr>\n",
              "      <th>2</th>\n",
              "      <td>15000000.0</td>\n",
              "      <td>Paramount Pictures</td>\n",
              "      <td>USA</td>\n",
              "      <td>Tony Scott</td>\n",
              "      <td>Action</td>\n",
              "      <td>179800601.0</td>\n",
              "      <td>PG</td>\n",
              "      <td>110</td>\n",
              "      <td>6.9</td>\n",
              "      <td>Tom Cruise</td>\n",
              "      <td>236909</td>\n",
              "      <td>Jim Cash</td>\n",
              "      <td>Good</td>\n",
              "    </tr>\n",
              "    <tr>\n",
              "      <th>3</th>\n",
              "      <td>18500000.0</td>\n",
              "      <td>Twentieth Century Fox Film Corporation</td>\n",
              "      <td>USA</td>\n",
              "      <td>James Cameron</td>\n",
              "      <td>Action</td>\n",
              "      <td>85160248.0</td>\n",
              "      <td>R</td>\n",
              "      <td>137</td>\n",
              "      <td>8.4</td>\n",
              "      <td>Sigourney Weaver</td>\n",
              "      <td>540152</td>\n",
              "      <td>James Cameron</td>\n",
              "      <td>Best</td>\n",
              "    </tr>\n",
              "    <tr>\n",
              "      <th>4</th>\n",
              "      <td>9000000.0</td>\n",
              "      <td>Walt Disney Pictures</td>\n",
              "      <td>USA</td>\n",
              "      <td>Randal Kleiser</td>\n",
              "      <td>Adventure</td>\n",
              "      <td>18564613.0</td>\n",
              "      <td>PG</td>\n",
              "      <td>90</td>\n",
              "      <td>6.9</td>\n",
              "      <td>Joey Cramer</td>\n",
              "      <td>36636</td>\n",
              "      <td>Mark H. Baker</td>\n",
              "      <td>Good</td>\n",
              "    </tr>\n",
              "    <tr>\n",
              "      <th>...</th>\n",
              "      <td>...</td>\n",
              "      <td>...</td>\n",
              "      <td>...</td>\n",
              "      <td>...</td>\n",
              "      <td>...</td>\n",
              "      <td>...</td>\n",
              "      <td>...</td>\n",
              "      <td>...</td>\n",
              "      <td>...</td>\n",
              "      <td>...</td>\n",
              "      <td>...</td>\n",
              "      <td>...</td>\n",
              "      <td>...</td>\n",
              "    </tr>\n",
              "    <tr>\n",
              "      <th>6815</th>\n",
              "      <td>24581130.0</td>\n",
              "      <td>Fox Searchlight Pictures</td>\n",
              "      <td>UK</td>\n",
              "      <td>Mandie Fletcher</td>\n",
              "      <td>Comedy</td>\n",
              "      <td>4750497.0</td>\n",
              "      <td>R</td>\n",
              "      <td>91</td>\n",
              "      <td>5.4</td>\n",
              "      <td>Jennifer Saunders</td>\n",
              "      <td>9161</td>\n",
              "      <td>Jennifer Saunders</td>\n",
              "      <td>Average</td>\n",
              "    </tr>\n",
              "    <tr>\n",
              "      <th>6816</th>\n",
              "      <td>24581130.0</td>\n",
              "      <td>Siempre Viva Productions</td>\n",
              "      <td>USA</td>\n",
              "      <td>Paul Duddridge</td>\n",
              "      <td>Drama</td>\n",
              "      <td>28368.0</td>\n",
              "      <td>PG-13</td>\n",
              "      <td>90</td>\n",
              "      <td>4.9</td>\n",
              "      <td>Selma Blair</td>\n",
              "      <td>1959</td>\n",
              "      <td>Paige Cameron</td>\n",
              "      <td>Average</td>\n",
              "    </tr>\n",
              "    <tr>\n",
              "      <th>6817</th>\n",
              "      <td>3500000.0</td>\n",
              "      <td>Warner Bros. Animation</td>\n",
              "      <td>USA</td>\n",
              "      <td>Sam Liu</td>\n",
              "      <td>Animation</td>\n",
              "      <td>3775000.0</td>\n",
              "      <td>R</td>\n",
              "      <td>76</td>\n",
              "      <td>6.5</td>\n",
              "      <td>Kevin Conroy</td>\n",
              "      <td>36333</td>\n",
              "      <td>Brian Azzarello</td>\n",
              "      <td>Good</td>\n",
              "    </tr>\n",
              "    <tr>\n",
              "      <th>6818</th>\n",
              "      <td>24581130.0</td>\n",
              "      <td>Borderline Presents</td>\n",
              "      <td>USA</td>\n",
              "      <td>Nicolas Pesce</td>\n",
              "      <td>Drama</td>\n",
              "      <td>25981.0</td>\n",
              "      <td>R</td>\n",
              "      <td>76</td>\n",
              "      <td>6.2</td>\n",
              "      <td>Kika Magalhães</td>\n",
              "      <td>6947</td>\n",
              "      <td>Nicolas Pesce</td>\n",
              "      <td>Good</td>\n",
              "    </tr>\n",
              "    <tr>\n",
              "      <th>6819</th>\n",
              "      <td>24581130.0</td>\n",
              "      <td>Les Productions du Trésor</td>\n",
              "      <td>France</td>\n",
              "      <td>Nicole Garcia</td>\n",
              "      <td>Drama</td>\n",
              "      <td>37757.0</td>\n",
              "      <td>R</td>\n",
              "      <td>120</td>\n",
              "      <td>6.7</td>\n",
              "      <td>Marion Cotillard</td>\n",
              "      <td>2411</td>\n",
              "      <td>Milena Agus</td>\n",
              "      <td>Good</td>\n",
              "    </tr>\n",
              "  </tbody>\n",
              "</table>\n",
              "<p>6820 rows × 13 columns</p>\n",
              "</div>"
            ],
            "text/plain": [
              "          budget  ... category\n",
              "0      8000000.0  ...     Best\n",
              "1      6000000.0  ...     Good\n",
              "2     15000000.0  ...     Good\n",
              "3     18500000.0  ...     Best\n",
              "4      9000000.0  ...     Good\n",
              "...          ...  ...      ...\n",
              "6815  24581130.0  ...  Average\n",
              "6816  24581130.0  ...  Average\n",
              "6817   3500000.0  ...     Good\n",
              "6818  24581130.0  ...     Good\n",
              "6819  24581130.0  ...     Good\n",
              "\n",
              "[6820 rows x 13 columns]"
            ]
          },
          "metadata": {
            "tags": []
          },
          "execution_count": 12
        }
      ]
    },
    {
      "cell_type": "markdown",
      "metadata": {
        "id": "pXaPL-bPFD2Q",
        "colab_type": "text"
      },
      "source": [
        ""
      ]
    },
    {
      "cell_type": "markdown",
      "metadata": {
        "id": "-5Svbsq1IX1U",
        "colab_type": "text"
      },
      "source": [
        "**Applying algorithm :**  \n",
        "I am applying the Gaussian Naive Bayes algorithm to establish the model. As part of the application process, we need the features that will be used to predict the 'category' label of the movie in numbers. So using labelEncoder library, I encoded features with string values to numbers. Then I divided the dataset into 2 categories, namely features and outcome. Features consist of factors that will be used to predict the outcome, i.e. label 'category' of the movie. So we have 2 variables now, features and label. Now, these variables are divided into two sets, that is a training set and test set. The training set is used to train the model, and the test set is used to perform predictions. It will find the labels according to the 'features' variable in the test set. Then the result is compared to find the accuracy of the model, from what it predicted the value of the label against the actual label."
      ]
    },
    {
      "cell_type": "markdown",
      "metadata": {
        "id": "_pw9n8O00aYo",
        "colab_type": "text"
      },
      "source": [
        "The following method was authored by Avinash Navlani(December,2018) for implementing gaussian naive bayes model."
      ]
    },
    {
      "cell_type": "code",
      "metadata": {
        "id": "JYmS-wDfdUJU",
        "colab_type": "code",
        "colab": {}
      },
      "source": [
        "# creating labelEncoder\n",
        "le = preprocessing.LabelEncoder()\n",
        "# converting string labels to numbers\n",
        "category_encoded=le.fit_transform(movieDB['category'])\n",
        "company_encoded=le.fit_transform(movieDB['company'])\n",
        "director_encoded=le.fit_transform(movieDB['director'])\n",
        "genre_encoded=le.fit_transform(movieDB['genre'])\n",
        "rating_encoded=le.fit_transform(movieDB['rating'])\n",
        "star_encoded=le.fit_transform(movieDB['star'])\n",
        "writer_encoded=le.fit_transform(movieDB['writer'])\n",
        "country_encoded=le.fit_transform(movieDB['country'])"
      ],
      "execution_count": 0,
      "outputs": []
    },
    {
      "cell_type": "code",
      "metadata": {
        "id": "ZGg9zCHP8jR-",
        "colab_type": "code",
        "colab": {}
      },
      "source": [
        "movieDB_copy['company']=company_encoded\n",
        "movieDB_copy['director']=director_encoded\n",
        "movieDB_copy['star']=star_encoded\n",
        "movieDB_copy['rating']=rating_encoded\n",
        "movieDB_copy['genre']=genre_encoded\n",
        "movieDB_copy['writer']=writer_encoded\n",
        "movieDB_copy['country']=country_encoded\n",
        "movieDB_copy['category']=category_encoded"
      ],
      "execution_count": 0,
      "outputs": []
    },
    {
      "cell_type": "code",
      "metadata": {
        "id": "A1rm2HQh9CA1",
        "colab_type": "code",
        "outputId": "b1a23619-bd53-4864-cc3a-4715b6d42b93",
        "colab": {
          "base_uri": "https://localhost:8080/",
          "height": 402
        }
      },
      "source": [
        "movieDB_copy"
      ],
      "execution_count": 15,
      "outputs": [
        {
          "output_type": "execute_result",
          "data": {
            "text/html": [
              "<div>\n",
              "<style scoped>\n",
              "    .dataframe tbody tr th:only-of-type {\n",
              "        vertical-align: middle;\n",
              "    }\n",
              "\n",
              "    .dataframe tbody tr th {\n",
              "        vertical-align: top;\n",
              "    }\n",
              "\n",
              "    .dataframe thead th {\n",
              "        text-align: right;\n",
              "    }\n",
              "</style>\n",
              "<table border=\"1\" class=\"dataframe\">\n",
              "  <thead>\n",
              "    <tr style=\"text-align: right;\">\n",
              "      <th></th>\n",
              "      <th>budget</th>\n",
              "      <th>company</th>\n",
              "      <th>country</th>\n",
              "      <th>director</th>\n",
              "      <th>genre</th>\n",
              "      <th>gross</th>\n",
              "      <th>rating</th>\n",
              "      <th>runtime</th>\n",
              "      <th>score</th>\n",
              "      <th>star</th>\n",
              "      <th>votes</th>\n",
              "      <th>writer</th>\n",
              "      <th>category</th>\n",
              "    </tr>\n",
              "  </thead>\n",
              "  <tbody>\n",
              "    <tr>\n",
              "      <th>0</th>\n",
              "      <td>8000000.0</td>\n",
              "      <td>665</td>\n",
              "      <td>54</td>\n",
              "      <td>2192</td>\n",
              "      <td>1</td>\n",
              "      <td>52287414.0</td>\n",
              "      <td>8</td>\n",
              "      <td>89</td>\n",
              "      <td>8.1</td>\n",
              "      <td>2454</td>\n",
              "      <td>299174</td>\n",
              "      <td>3716</td>\n",
              "      <td>1</td>\n",
              "    </tr>\n",
              "    <tr>\n",
              "      <th>1</th>\n",
              "      <td>6000000.0</td>\n",
              "      <td>1680</td>\n",
              "      <td>54</td>\n",
              "      <td>1296</td>\n",
              "      <td>4</td>\n",
              "      <td>70136369.0</td>\n",
              "      <td>7</td>\n",
              "      <td>103</td>\n",
              "      <td>7.8</td>\n",
              "      <td>1605</td>\n",
              "      <td>264740</td>\n",
              "      <td>1970</td>\n",
              "      <td>2</td>\n",
              "    </tr>\n",
              "    <tr>\n",
              "      <th>2</th>\n",
              "      <td>15000000.0</td>\n",
              "      <td>1680</td>\n",
              "      <td>54</td>\n",
              "      <td>2645</td>\n",
              "      <td>0</td>\n",
              "      <td>179800601.0</td>\n",
              "      <td>6</td>\n",
              "      <td>110</td>\n",
              "      <td>6.9</td>\n",
              "      <td>2345</td>\n",
              "      <td>236909</td>\n",
              "      <td>1852</td>\n",
              "      <td>2</td>\n",
              "    </tr>\n",
              "    <tr>\n",
              "      <th>3</th>\n",
              "      <td>18500000.0</td>\n",
              "      <td>2062</td>\n",
              "      <td>54</td>\n",
              "      <td>1066</td>\n",
              "      <td>0</td>\n",
              "      <td>85160248.0</td>\n",
              "      <td>8</td>\n",
              "      <td>137</td>\n",
              "      <td>8.4</td>\n",
              "      <td>2192</td>\n",
              "      <td>540152</td>\n",
              "      <td>1629</td>\n",
              "      <td>1</td>\n",
              "    </tr>\n",
              "    <tr>\n",
              "      <th>4</th>\n",
              "      <td>9000000.0</td>\n",
              "      <td>2122</td>\n",
              "      <td>54</td>\n",
              "      <td>2123</td>\n",
              "      <td>1</td>\n",
              "      <td>18564613.0</td>\n",
              "      <td>6</td>\n",
              "      <td>90</td>\n",
              "      <td>6.9</td>\n",
              "      <td>1139</td>\n",
              "      <td>36636</td>\n",
              "      <td>2549</td>\n",
              "      <td>2</td>\n",
              "    </tr>\n",
              "    <tr>\n",
              "      <th>...</th>\n",
              "      <td>...</td>\n",
              "      <td>...</td>\n",
              "      <td>...</td>\n",
              "      <td>...</td>\n",
              "      <td>...</td>\n",
              "      <td>...</td>\n",
              "      <td>...</td>\n",
              "      <td>...</td>\n",
              "      <td>...</td>\n",
              "      <td>...</td>\n",
              "      <td>...</td>\n",
              "      <td>...</td>\n",
              "      <td>...</td>\n",
              "    </tr>\n",
              "    <tr>\n",
              "      <th>6815</th>\n",
              "      <td>24581130.0</td>\n",
              "      <td>1013</td>\n",
              "      <td>53</td>\n",
              "      <td>1623</td>\n",
              "      <td>4</td>\n",
              "      <td>4750497.0</td>\n",
              "      <td>8</td>\n",
              "      <td>91</td>\n",
              "      <td>5.4</td>\n",
              "      <td>1066</td>\n",
              "      <td>9161</td>\n",
              "      <td>1800</td>\n",
              "      <td>0</td>\n",
              "    </tr>\n",
              "    <tr>\n",
              "      <th>6816</th>\n",
              "      <td>24581130.0</td>\n",
              "      <td>1914</td>\n",
              "      <td>54</td>\n",
              "      <td>1989</td>\n",
              "      <td>6</td>\n",
              "      <td>28368.0</td>\n",
              "      <td>7</td>\n",
              "      <td>90</td>\n",
              "      <td>4.9</td>\n",
              "      <td>2146</td>\n",
              "      <td>1959</td>\n",
              "      <td>3008</td>\n",
              "      <td>0</td>\n",
              "    </tr>\n",
              "    <tr>\n",
              "      <th>6817</th>\n",
              "      <td>3500000.0</td>\n",
              "      <td>2124</td>\n",
              "      <td>54</td>\n",
              "      <td>2313</td>\n",
              "      <td>2</td>\n",
              "      <td>3775000.0</td>\n",
              "      <td>8</td>\n",
              "      <td>76</td>\n",
              "      <td>6.5</td>\n",
              "      <td>1355</td>\n",
              "      <td>36333</td>\n",
              "      <td>450</td>\n",
              "      <td>2</td>\n",
              "    </tr>\n",
              "    <tr>\n",
              "      <th>6818</th>\n",
              "      <td>24581130.0</td>\n",
              "      <td>415</td>\n",
              "      <td>54</td>\n",
              "      <td>1914</td>\n",
              "      <td>6</td>\n",
              "      <td>25981.0</td>\n",
              "      <td>8</td>\n",
              "      <td>76</td>\n",
              "      <td>6.2</td>\n",
              "      <td>1370</td>\n",
              "      <td>6947</td>\n",
              "      <td>2946</td>\n",
              "      <td>2</td>\n",
              "    </tr>\n",
              "    <tr>\n",
              "      <th>6819</th>\n",
              "      <td>24581130.0</td>\n",
              "      <td>1393</td>\n",
              "      <td>16</td>\n",
              "      <td>1918</td>\n",
              "      <td>6</td>\n",
              "      <td>37757.0</td>\n",
              "      <td>8</td>\n",
              "      <td>120</td>\n",
              "      <td>6.7</td>\n",
              "      <td>1558</td>\n",
              "      <td>2411</td>\n",
              "      <td>2831</td>\n",
              "      <td>2</td>\n",
              "    </tr>\n",
              "  </tbody>\n",
              "</table>\n",
              "<p>6820 rows × 13 columns</p>\n",
              "</div>"
            ],
            "text/plain": [
              "          budget  company  country  director  ...  star   votes  writer  category\n",
              "0      8000000.0      665       54      2192  ...  2454  299174    3716         1\n",
              "1      6000000.0     1680       54      1296  ...  1605  264740    1970         2\n",
              "2     15000000.0     1680       54      2645  ...  2345  236909    1852         2\n",
              "3     18500000.0     2062       54      1066  ...  2192  540152    1629         1\n",
              "4      9000000.0     2122       54      2123  ...  1139   36636    2549         2\n",
              "...          ...      ...      ...       ...  ...   ...     ...     ...       ...\n",
              "6815  24581130.0     1013       53      1623  ...  1066    9161    1800         0\n",
              "6816  24581130.0     1914       54      1989  ...  2146    1959    3008         0\n",
              "6817   3500000.0     2124       54      2313  ...  1355   36333     450         2\n",
              "6818  24581130.0      415       54      1914  ...  1370    6947    2946         2\n",
              "6819  24581130.0     1393       16      1918  ...  1558    2411    2831         2\n",
              "\n",
              "[6820 rows x 13 columns]"
            ]
          },
          "metadata": {
            "tags": []
          },
          "execution_count": 15
        }
      ]
    },
    {
      "cell_type": "code",
      "metadata": {
        "id": "vgMB-uHfidZe",
        "colab_type": "code",
        "colab": {}
      },
      "source": [
        "features=list(zip(movieDB.runtime, director_encoded,rating_encoded,genre_encoded))\n",
        "#features=list(zip(movieDB.runtime,movieDB.votes))\n",
        "#features=list(zip(company_encoded,country_encoded,director_encoded,writer_encoded, star_encoded))"
      ],
      "execution_count": 0,
      "outputs": []
    },
    {
      "cell_type": "code",
      "metadata": {
        "id": "WN447aSepLF-",
        "colab_type": "code",
        "colab": {}
      },
      "source": [
        "# Split dataset into training set and test set\n",
        "X_train, X_test, y_train, y_test = train_test_split(features, movieDB['category'], test_size=0.4)"
      ],
      "execution_count": 0,
      "outputs": []
    },
    {
      "cell_type": "code",
      "metadata": {
        "id": "3Ek8EPDiqPE8",
        "colab_type": "code",
        "colab": {}
      },
      "source": [
        "#Create a Gaussian Classifier\n",
        "GNB_Model = GaussianNB()\n",
        "\n",
        "#Train the model using the training sets\n",
        "GNB_Model.fit(X_train, y_train)\n",
        "\n",
        "#Predict the response for test dataset\n",
        "label_predicted = GNB_Model.predict(X_test)"
      ],
      "execution_count": 0,
      "outputs": []
    },
    {
      "cell_type": "code",
      "metadata": {
        "id": "nvAa4rW2rS6n",
        "colab_type": "code",
        "outputId": "f79686fc-b36d-48e6-b59c-1e9183c06b9b",
        "colab": {
          "base_uri": "https://localhost:8080/",
          "height": 34
        }
      },
      "source": [
        "# Model Accuracy, how often is the classifier correct?\n",
        "print(\"Accuracy:\",metrics.accuracy_score(y_test, label_predicted))"
      ],
      "execution_count": 19,
      "outputs": [
        {
          "output_type": "stream",
          "text": [
            "Accuracy: 0.6521260997067448\n"
          ],
          "name": "stdout"
        }
      ]
    },
    {
      "cell_type": "markdown",
      "metadata": {
        "id": "iY1im3fVgPzI",
        "colab_type": "text"
      },
      "source": [
        "**Visualization:**  \n"
      ]
    },
    {
      "cell_type": "code",
      "metadata": {
        "id": "eR7o5hK69bXM",
        "colab_type": "code",
        "colab": {}
      },
      "source": [
        "#Removing irrelevant features from movieDB copy\n",
        "movieDB_copy.drop(['budget','company', 'country','gross','score','star','votes','writer'], axis = 1, inplace = True)"
      ],
      "execution_count": 0,
      "outputs": []
    },
    {
      "cell_type": "code",
      "metadata": {
        "id": "N3NKtunm_B__",
        "colab_type": "code",
        "outputId": "96535ffa-4c38-4a28-8408-494d1c694743",
        "colab": {
          "base_uri": "https://localhost:8080/",
          "height": 558
        }
      },
      "source": [
        "# Set the dimensions of the heatmap\n",
        "plt.figure(figsize=(9,9))\n",
        "\n",
        "# Set a title and plot the heatmap\n",
        "plt.title('Correlation of Features', fontsize=20)\n",
        "ax=sns.heatmap(movieDB_copy.corr().astype(float).corr(),vmin=-1.0,vmax=1.0, annot=True)\n",
        "cbar = ax.collections[0].colorbar\n",
        "cbar.set_ticks([-1.0, -0.4, 0.0, 0.4, 1.0])\n",
        "cbar.set_ticklabels(['low', '40%', '60%', '80%','100%'])\n",
        "plt.show()"
      ],
      "execution_count": 21,
      "outputs": [
        {
          "output_type": "display_data",
          "data": {
            "image/png": "[encoded data removed]",
            "text/plain": [
              "<Figure size 648x648 with 2 Axes>"
            ]
          },
          "metadata": {
            "tags": [],
            "needs_background": "light"
          }
        }
      ]
    },
    {
      "cell_type": "markdown",
      "metadata": {
        "id": "ZqMkvMvOiAnJ",
        "colab_type": "text"
      },
      "source": [
        "This is a heatmap for variables category, runtime, rating, genre, director. The values represent how much the features are related to each other. Most of the values are actually negative, which represents that these features are highly independent of each other, thus not-correlated. This represents one of the properties of Gaussian Naive Bayes theorem, that the more the independent the feature values, the higher the accuracy. Hence these features were selected for prediction."
      ]
    },
    {
      "cell_type": "code",
      "metadata": {
        "id": "DDfD4jalBNK1",
        "colab_type": "code",
        "outputId": "188cff3e-9886-42c8-c249-3783ea635bc3",
        "colab": {
          "base_uri": "https://localhost:8080/",
          "height": 987
        }
      },
      "source": [
        "jet=plt.get_cmap('jet')\n",
        "x = movieDB['genre']\n",
        "y = movieDB['runtime']\n",
        "z = movieDB_copy['category']\n",
        "plt.figure(figsize=(20, 15),dpi=80)\n",
        "plt.scatter(x, y, c=z, s=100,cmap=jet)\n",
        "plt.title(\"Runtime Vs Genre\")\n",
        "plt.xlabel(\"Genre\")\n",
        "plt.ylabel(\"Runtime\")\n",
        "cbar=plt.colorbar()\n",
        "cbar.set_ticks([0,1,2,3])\n",
        "cbar.set_ticklabels(['Average','Best','Good','Poor'])\n",
        "plt.show()"
      ],
      "execution_count": 22,
      "outputs": [
        {
          "output_type": "display_data",
          "data": {
            "image/png": "[encoded data removed]",
            "text/plain": [
              "<Figure size 1600x1200 with 2 Axes>"
            ]
          },
          "metadata": {
            "tags": [],
            "needs_background": "light"
          }
        }
      ]
    },
    {
      "cell_type": "markdown",
      "metadata": {
        "id": "46f3gmABnatr",
        "colab_type": "text"
      },
      "source": [
        "The above scatter plot represents Runtime, Genre and Category of the  movie. Category is represented by the color. From this we know that:\n",
        "1. Most horror movies are average.\n",
        "2. The shortest movie is of adventure genre and is good.\n",
        "3. There are only 2 movies of western genre and of good and average category.\n",
        "4. Drama has the longest running movies.\n",
        "5. Most movies lying between ~75 to ~180 minutes, and are good.\n",
        "6. No movies in genre sci fi/horror/Thriller/Fantasy/war movies are best."
      ]
    },
    {
      "cell_type": "code",
      "metadata": {
        "id": "hq5ARLXohPIl",
        "colab_type": "code",
        "outputId": "6cda1635-c60d-4fc4-b351-ed82a5513494",
        "colab": {
          "base_uri": "https://localhost:8080/",
          "height": 625
        }
      },
      "source": [
        "jet=plt.get_cmap('jet')\n",
        "x = movieDB['genre']\n",
        "y = movieDB['rating']\n",
        "z = movieDB_copy['category']\n",
        "plt.figure(figsize=(19,9),dpi=80)\n",
        "plt.scatter(x, y, c=z, s=100,cmap=jet)\n",
        "plt.title(\"Genre Vs Rating\")\n",
        "plt.xlabel(\"Genre\")\n",
        "plt.ylabel(\"Rating\")\n",
        "cbar=plt.colorbar()\n",
        "cbar.set_ticks([0,1,2,3])\n",
        "cbar.set_ticklabels(['Average','Best','Good','Poor'])\n",
        "plt.show()"
      ],
      "execution_count": 23,
      "outputs": [
        {
          "output_type": "display_data",
          "data": {
            "image/png": "[encoded data removed]",
            "text/plain": [
              "<Figure size 1520x720 with 2 Axes>"
            ]
          },
          "metadata": {
            "tags": [],
            "needs_background": "light"
          }
        }
      ]
    },
    {
      "cell_type": "markdown",
      "metadata": {
        "id": "q-F0Ai6jrUwm",
        "colab_type": "text"
      },
      "source": [
        "The above scatter plot represents Rating, Genre and Category of the movie. The category is represented by the colour.  \n",
        "From this, we can conclude that:\n",
        "1. Poor movies rating is missing.\n",
        "2. Rating is hardly a factor influencing the category of a movie.\n",
        "3. All the best movies that are visible in the above plot don't have a rating."
      ]
    },
    {
      "cell_type": "code",
      "metadata": {
        "id": "e-d4TnThiuoU",
        "colab_type": "code",
        "outputId": "1b31eee9-1021-480a-9244-d6120d3a04bd",
        "colab": {
          "base_uri": "https://localhost:8080/",
          "height": 34
        }
      },
      "source": [
        "#FictionalInstance\n",
        "label_predicted = GNB_Model.predict([[103, 1296, 7, 3]])\n",
        "label_predicted"
      ],
      "execution_count": 24,
      "outputs": [
        {
          "output_type": "execute_result",
          "data": {
            "text/plain": [
              "array(['Good'], dtype='<U7')"
            ]
          },
          "metadata": {
            "tags": []
          },
          "execution_count": 24
        }
      ]
    },
    {
      "cell_type": "code",
      "metadata": {
        "id": "g9-VSmoSwdGf",
        "colab_type": "code",
        "outputId": "4fd143a2-8afa-4765-ca4c-d053d81758eb",
        "colab": {
          "base_uri": "https://localhost:8080/",
          "height": 34
        }
      },
      "source": [
        "#FictionalInstanceInterploation\n",
        "label_predicted1 = GNB_Model.predict([[10, 12, 1, 1]])\n",
        "label_predicted1"
      ],
      "execution_count": 25,
      "outputs": [
        {
          "output_type": "execute_result",
          "data": {
            "text/plain": [
              "array(['Best'], dtype='<U7')"
            ]
          },
          "metadata": {
            "tags": []
          },
          "execution_count": 25
        }
      ]
    },
    {
      "cell_type": "code",
      "metadata": {
        "id": "20vy7BoXvAUq",
        "colab_type": "code",
        "outputId": "3f2c3e5d-510c-4e52-9c19-67df6afef39d",
        "colab": {
          "base_uri": "https://localhost:8080/",
          "height": 34
        }
      },
      "source": [
        "#FictionalInstanceExtrapolation\n",
        "label_predicted2 = GNB_Model.predict([[8000, 8000, 7000, 7000]])\n",
        "label_predicted2"
      ],
      "execution_count": 26,
      "outputs": [
        {
          "output_type": "execute_result",
          "data": {
            "text/plain": [
              "array(['Best'], dtype='<U7')"
            ]
          },
          "metadata": {
            "tags": []
          },
          "execution_count": 26
        }
      ]
    },
    {
      "cell_type": "markdown",
      "metadata": {
        "id": "Q6KbNr5xmkV-",
        "colab_type": "text"
      },
      "source": [
        "**Discussion**:\n",
        "From the above results, it can be seen that this model can predict the outcome of future instances with about 65% accuracy. Thus, one cant rely on this model for accurate results. It works better when the features that are used to predict are independent. This model can't be used to predict dependence of features on one-another. Testing on fictional instance, resulted in a value of 2, which actually represents an \"Average\" movie, which can't be said for certain as the model only predicts with a 65% accuracy.  \n",
        "For both fictional values given to model for interpolation and extrapolation, it is giving the output, though we can't say for certain how accurate it is. One will need a bigger data to verify the results."
      ]
    },
    {
      "cell_type": "markdown",
      "metadata": {
        "id": "1QdEl4HextPJ",
        "colab_type": "text"
      },
      "source": [
        "**Summary:**  \n",
        "As part of this notebook, I used the scikit-learn algorithm to determine the appropriate machine learning algorithm to be used on the dataset. Thus the Naive Bayes algorithm was chosen. Then data was modified so that it can be properly used by the algorithm. Finally, using the algorithm on the data, a model was produced that was able to predict the label from the features with 65% accuracy. Based on the model, visualizations were drawn. The visualizations proved that the lower the correlation between the features, the more the accuracy. Additional interesting information was found using visualizations. The goal was to use the data and model it using a machine learning algorithm and represent it using visualizations, which is achieved. Regression algorithms might have been interesting to perform on this data by predicting the score of the movie. There few new trends I was able to find out from visualizations, like one of the best-rated movie is actually 6 hours long.  "
      ]
    },
    {
      "cell_type": "markdown",
      "metadata": {
        "id": "3H0cwGgZ1B8J",
        "colab_type": "text"
      },
      "source": [
        "**References**  \n",
        "Navlani, A. (2018). Available at: https://www.datacamp.com/community/tutorials/naive-bayes-scikit-learn"
      ]
    }
  ]
}