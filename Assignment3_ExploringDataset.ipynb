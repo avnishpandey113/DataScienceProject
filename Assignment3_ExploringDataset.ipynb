{
  "nbformat": 4,
  "nbformat_minor": 0,
  "metadata": {
    "colab": {
      "name": "a3-pandey-avnish.ipynb",
      "provenance": [],
      "collapsed_sections": [],
      "include_colab_link": true
    },
    "kernelspec": {
      "name": "python3",
      "display_name": "Python 3"
    }
  },
  "cells": [
    {
      "cell_type": "markdown",
      "metadata": {
        "id": "view-in-github",
        "colab_type": "text"
      },
      "source": [
        "<a href=\"https://colab.research.google.com/github/avnishpandey113/DataScienceProject/blob/master/Assignment3_ExploringDataset.ipynb\" target=\"_parent\"><img src=\"https://colab.research.google.com/assets/colab-badge.svg\" alt=\"Open In Colab\"/></a>"
      ]
    },
    {
      "cell_type": "markdown",
      "metadata": {
        "id": "7D91EtHdlSlt",
        "colab_type": "text"
      },
      "source": [
        "The dataset chosen for this activity is taken from https://www.kaggle.com/danielgrijalvas/movies/version/2. It is a movie based dataset. It comprises of information like names of movies, actors, rating, imdb score. I have chosen this data because I wanted to find out what factors contribute to the success of a movie or what factors make a 'good' movie."
      ]
    },
    {
      "cell_type": "markdown",
      "metadata": {
        "id": "OTssfXyQpM_I",
        "colab_type": "text"
      },
      "source": [
        "To explore the dataset, I downloaded the CSV file of dataset from kaggle and uploaded it to my google drive. This file is then imported from my google drive to google colab for further use."
      ]
    },
    {
      "cell_type": "code",
      "metadata": {
        "id": "mOEREtA526BY",
        "colab_type": "code",
        "colab": {}
      },
      "source": [
        "#importing google drive using colab\n",
        "from google.colab import drive"
      ],
      "execution_count": 0,
      "outputs": []
    },
    {
      "cell_type": "code",
      "metadata": {
        "id": "ogSDiJgs3EF7",
        "colab_type": "code",
        "outputId": "4a62bfca-16ce-4c99-b536-d3e32a2d3b63",
        "colab": {
          "base_uri": "https://localhost:8080/",
          "height": 34
        }
      },
      "source": [
        "#Authorizing colab to access files in google drive\n",
        "drive.mount('/content/gdrive')"
      ],
      "execution_count": 0,
      "outputs": [
        {
          "output_type": "stream",
          "text": [
            "Drive already mounted at /content/gdrive; to attempt to forcibly remount, call drive.mount(\"/content/gdrive\", force_remount=True).\n"
          ],
          "name": "stdout"
        }
      ]
    },
    {
      "cell_type": "code",
      "metadata": {
        "id": "6H9_RzGM3HHk",
        "colab_type": "code",
        "outputId": "cc1f87fb-d7f0-44cc-d00a-a8c2804a8bbc",
        "colab": {
          "base_uri": "https://localhost:8080/",
          "height": 34
        }
      },
      "source": [
        "cd gdrive"
      ],
      "execution_count": 0,
      "outputs": [
        {
          "output_type": "stream",
          "text": [
            "/content/gdrive\n"
          ],
          "name": "stdout"
        }
      ]
    },
    {
      "cell_type": "code",
      "metadata": {
        "id": "lR4XhZLO3KOa",
        "colab_type": "code",
        "outputId": "f0441502-9d7b-41d8-9c1c-b36a692ee51b",
        "colab": {
          "base_uri": "https://localhost:8080/",
          "height": 34
        }
      },
      "source": [
        "cd My\\ Drive"
      ],
      "execution_count": 0,
      "outputs": [
        {
          "output_type": "stream",
          "text": [
            "/content/gdrive/My Drive\n"
          ],
          "name": "stdout"
        }
      ]
    },
    {
      "cell_type": "code",
      "metadata": {
        "id": "O_d5x8Qx3NHe",
        "colab_type": "code",
        "colab": {}
      },
      "source": [
        "#importing required python libraries to read and explore the dataset\n",
        "import numpy as np\n",
        "import pandas as pd\n",
        "import matplotlib.pyplot as plt"
      ],
      "execution_count": 0,
      "outputs": []
    },
    {
      "cell_type": "markdown",
      "metadata": {
        "id": "GtgmZbbstQGp",
        "colab_type": "text"
      },
      "source": [
        "The data wasn't a pure utf-8 encoded data, thus specific encoding is used to read and put it into dataframe. "
      ]
    },
    {
      "cell_type": "code",
      "metadata": {
        "id": "dZbwaZTz3Qx5",
        "colab_type": "code",
        "colab": {}
      },
      "source": [
        "#reading the csv dataset into dataframe\n",
        "ledger = pd.read_csv('movies.csv', encoding = \"ISO-8859-1\")"
      ],
      "execution_count": 0,
      "outputs": []
    },
    {
      "cell_type": "code",
      "metadata": {
        "id": "TiL2zgcC3WYG",
        "colab_type": "code",
        "outputId": "5f2db23c-c913-4b92-f3c0-6dc5b76cc344",
        "colab": {
          "base_uri": "https://localhost:8080/",
          "height": 1000
        }
      },
      "source": [
        "ledger"
      ],
      "execution_count": 0,
      "outputs": [
        {
          "output_type": "execute_result",
          "data": {
            "text/html": [
              "<div>\n",
              "<style scoped>\n",
              "    .dataframe tbody tr th:only-of-type {\n",
              "        vertical-align: middle;\n",
              "    }\n",
              "\n",
              "    .dataframe tbody tr th {\n",
              "        vertical-align: top;\n",
              "    }\n",
              "\n",
              "    .dataframe thead th {\n",
              "        text-align: right;\n",
              "    }\n",
              "</style>\n",
              "<table border=\"1\" class=\"dataframe\">\n",
              "  <thead>\n",
              "    <tr style=\"text-align: right;\">\n",
              "      <th></th>\n",
              "      <th>budget</th>\n",
              "      <th>company</th>\n",
              "      <th>country</th>\n",
              "      <th>director</th>\n",
              "      <th>genre</th>\n",
              "      <th>gross</th>\n",
              "      <th>name</th>\n",
              "      <th>rating</th>\n",
              "      <th>released</th>\n",
              "      <th>runtime</th>\n",
              "      <th>score</th>\n",
              "      <th>star</th>\n",
              "      <th>votes</th>\n",
              "      <th>writer</th>\n",
              "      <th>year</th>\n",
              "    </tr>\n",
              "  </thead>\n",
              "  <tbody>\n",
              "    <tr>\n",
              "      <th>0</th>\n",
              "      <td>8000000.0</td>\n",
              "      <td>Columbia Pictures Corporation</td>\n",
              "      <td>USA</td>\n",
              "      <td>Rob Reiner</td>\n",
              "      <td>Adventure</td>\n",
              "      <td>52287414.0</td>\n",
              "      <td>Stand by Me</td>\n",
              "      <td>R</td>\n",
              "      <td>1986-08-22</td>\n",
              "      <td>89</td>\n",
              "      <td>8.1</td>\n",
              "      <td>Wil Wheaton</td>\n",
              "      <td>299174</td>\n",
              "      <td>Stephen King</td>\n",
              "      <td>1986</td>\n",
              "    </tr>\n",
              "    <tr>\n",
              "      <th>1</th>\n",
              "      <td>6000000.0</td>\n",
              "      <td>Paramount Pictures</td>\n",
              "      <td>USA</td>\n",
              "      <td>John Hughes</td>\n",
              "      <td>Comedy</td>\n",
              "      <td>70136369.0</td>\n",
              "      <td>Ferris Bueller's Day Off</td>\n",
              "      <td>PG-13</td>\n",
              "      <td>1986-06-11</td>\n",
              "      <td>103</td>\n",
              "      <td>7.8</td>\n",
              "      <td>Matthew Broderick</td>\n",
              "      <td>264740</td>\n",
              "      <td>John Hughes</td>\n",
              "      <td>1986</td>\n",
              "    </tr>\n",
              "    <tr>\n",
              "      <th>2</th>\n",
              "      <td>15000000.0</td>\n",
              "      <td>Paramount Pictures</td>\n",
              "      <td>USA</td>\n",
              "      <td>Tony Scott</td>\n",
              "      <td>Action</td>\n",
              "      <td>179800601.0</td>\n",
              "      <td>Top Gun</td>\n",
              "      <td>PG</td>\n",
              "      <td>1986-05-16</td>\n",
              "      <td>110</td>\n",
              "      <td>6.9</td>\n",
              "      <td>Tom Cruise</td>\n",
              "      <td>236909</td>\n",
              "      <td>Jim Cash</td>\n",
              "      <td>1986</td>\n",
              "    </tr>\n",
              "    <tr>\n",
              "      <th>3</th>\n",
              "      <td>18500000.0</td>\n",
              "      <td>Twentieth Century Fox Film Corporation</td>\n",
              "      <td>USA</td>\n",
              "      <td>James Cameron</td>\n",
              "      <td>Action</td>\n",
              "      <td>85160248.0</td>\n",
              "      <td>Aliens</td>\n",
              "      <td>R</td>\n",
              "      <td>1986-07-18</td>\n",
              "      <td>137</td>\n",
              "      <td>8.4</td>\n",
              "      <td>Sigourney Weaver</td>\n",
              "      <td>540152</td>\n",
              "      <td>James Cameron</td>\n",
              "      <td>1986</td>\n",
              "    </tr>\n",
              "    <tr>\n",
              "      <th>4</th>\n",
              "      <td>9000000.0</td>\n",
              "      <td>Walt Disney Pictures</td>\n",
              "      <td>USA</td>\n",
              "      <td>Randal Kleiser</td>\n",
              "      <td>Adventure</td>\n",
              "      <td>18564613.0</td>\n",
              "      <td>Flight of the Navigator</td>\n",
              "      <td>PG</td>\n",
              "      <td>1986-08-01</td>\n",
              "      <td>90</td>\n",
              "      <td>6.9</td>\n",
              "      <td>Joey Cramer</td>\n",
              "      <td>36636</td>\n",
              "      <td>Mark H. Baker</td>\n",
              "      <td>1986</td>\n",
              "    </tr>\n",
              "    <tr>\n",
              "      <th>5</th>\n",
              "      <td>6000000.0</td>\n",
              "      <td>Hemdale</td>\n",
              "      <td>UK</td>\n",
              "      <td>Oliver Stone</td>\n",
              "      <td>Drama</td>\n",
              "      <td>138530565.0</td>\n",
              "      <td>Platoon</td>\n",
              "      <td>R</td>\n",
              "      <td>1987-02-06</td>\n",
              "      <td>120</td>\n",
              "      <td>8.1</td>\n",
              "      <td>Charlie Sheen</td>\n",
              "      <td>317585</td>\n",
              "      <td>Oliver Stone</td>\n",
              "      <td>1986</td>\n",
              "    </tr>\n",
              "    <tr>\n",
              "      <th>6</th>\n",
              "      <td>25000000.0</td>\n",
              "      <td>Henson Associates (HA)</td>\n",
              "      <td>UK</td>\n",
              "      <td>Jim Henson</td>\n",
              "      <td>Adventure</td>\n",
              "      <td>12729917.0</td>\n",
              "      <td>Labyrinth</td>\n",
              "      <td>PG</td>\n",
              "      <td>1986-06-27</td>\n",
              "      <td>101</td>\n",
              "      <td>7.4</td>\n",
              "      <td>David Bowie</td>\n",
              "      <td>102879</td>\n",
              "      <td>Dennis Lee</td>\n",
              "      <td>1986</td>\n",
              "    </tr>\n",
              "    <tr>\n",
              "      <th>7</th>\n",
              "      <td>6000000.0</td>\n",
              "      <td>De Laurentiis Entertainment Group (DEG)</td>\n",
              "      <td>USA</td>\n",
              "      <td>David Lynch</td>\n",
              "      <td>Drama</td>\n",
              "      <td>8551228.0</td>\n",
              "      <td>Blue Velvet</td>\n",
              "      <td>R</td>\n",
              "      <td>1986-10-23</td>\n",
              "      <td>120</td>\n",
              "      <td>7.8</td>\n",
              "      <td>Isabella Rossellini</td>\n",
              "      <td>146768</td>\n",
              "      <td>David Lynch</td>\n",
              "      <td>1986</td>\n",
              "    </tr>\n",
              "    <tr>\n",
              "      <th>8</th>\n",
              "      <td>9000000.0</td>\n",
              "      <td>Paramount Pictures</td>\n",
              "      <td>USA</td>\n",
              "      <td>Howard Deutch</td>\n",
              "      <td>Comedy</td>\n",
              "      <td>40471663.0</td>\n",
              "      <td>Pretty in Pink</td>\n",
              "      <td>PG-13</td>\n",
              "      <td>1986-02-28</td>\n",
              "      <td>96</td>\n",
              "      <td>6.8</td>\n",
              "      <td>Molly Ringwald</td>\n",
              "      <td>60565</td>\n",
              "      <td>John Hughes</td>\n",
              "      <td>1986</td>\n",
              "    </tr>\n",
              "    <tr>\n",
              "      <th>9</th>\n",
              "      <td>15000000.0</td>\n",
              "      <td>SLM Production Group</td>\n",
              "      <td>USA</td>\n",
              "      <td>David Cronenberg</td>\n",
              "      <td>Drama</td>\n",
              "      <td>40456565.0</td>\n",
              "      <td>The Fly</td>\n",
              "      <td>R</td>\n",
              "      <td>1986-08-15</td>\n",
              "      <td>96</td>\n",
              "      <td>7.5</td>\n",
              "      <td>Jeff Goldblum</td>\n",
              "      <td>129698</td>\n",
              "      <td>George Langelaan</td>\n",
              "      <td>1986</td>\n",
              "    </tr>\n",
              "    <tr>\n",
              "      <th>10</th>\n",
              "      <td>8800000.0</td>\n",
              "      <td>Rimfire Films</td>\n",
              "      <td>Australia</td>\n",
              "      <td>Peter Faiman</td>\n",
              "      <td>Adventure</td>\n",
              "      <td>174635000.0</td>\n",
              "      <td>Crocodile Dundee</td>\n",
              "      <td>PG-13</td>\n",
              "      <td>1986-09-26</td>\n",
              "      <td>97</td>\n",
              "      <td>6.5</td>\n",
              "      <td>Paul Hogan</td>\n",
              "      <td>79465</td>\n",
              "      <td>Ken Shadie</td>\n",
              "      <td>1986</td>\n",
              "    </tr>\n",
              "    <tr>\n",
              "      <th>11</th>\n",
              "      <td>16000000.0</td>\n",
              "      <td>Thorn EMI Screen Entertainment</td>\n",
              "      <td>UK</td>\n",
              "      <td>Russell Mulcahy</td>\n",
              "      <td>Action</td>\n",
              "      <td>5900000.0</td>\n",
              "      <td>Highlander</td>\n",
              "      <td>R</td>\n",
              "      <td>1986-03-07</td>\n",
              "      <td>116</td>\n",
              "      <td>7.2</td>\n",
              "      <td>Christopher Lambert</td>\n",
              "      <td>104860</td>\n",
              "      <td>Gregory Widen</td>\n",
              "      <td>1986</td>\n",
              "    </tr>\n",
              "    <tr>\n",
              "      <th>12</th>\n",
              "      <td>6000000.0</td>\n",
              "      <td>Twentieth Century Fox Film Corporation</td>\n",
              "      <td>USA</td>\n",
              "      <td>David Seltzer</td>\n",
              "      <td>Comedy</td>\n",
              "      <td>8200000.0</td>\n",
              "      <td>Lucas</td>\n",
              "      <td>PG-13</td>\n",
              "      <td>1986-03-28</td>\n",
              "      <td>100</td>\n",
              "      <td>6.8</td>\n",
              "      <td>Corey Haim</td>\n",
              "      <td>12228</td>\n",
              "      <td>David Seltzer</td>\n",
              "      <td>1986</td>\n",
              "    </tr>\n",
              "    <tr>\n",
              "      <th>13</th>\n",
              "      <td>25000000.0</td>\n",
              "      <td>Twentieth Century Fox Film Corporation</td>\n",
              "      <td>USA</td>\n",
              "      <td>John Carpenter</td>\n",
              "      <td>Action</td>\n",
              "      <td>11100000.0</td>\n",
              "      <td>Big Trouble in Little China</td>\n",
              "      <td>PG-13</td>\n",
              "      <td>1986-07-02</td>\n",
              "      <td>99</td>\n",
              "      <td>7.3</td>\n",
              "      <td>Kurt Russell</td>\n",
              "      <td>101678</td>\n",
              "      <td>Gary Goldman</td>\n",
              "      <td>1986</td>\n",
              "    </tr>\n",
              "    <tr>\n",
              "      <th>14</th>\n",
              "      <td>15000000.0</td>\n",
              "      <td>De Laurentiis Entertainment Group (DEG)</td>\n",
              "      <td>USA</td>\n",
              "      <td>Michael Mann</td>\n",
              "      <td>Crime</td>\n",
              "      <td>8620929.0</td>\n",
              "      <td>Manhunter</td>\n",
              "      <td>R</td>\n",
              "      <td>1986-08-15</td>\n",
              "      <td>120</td>\n",
              "      <td>7.2</td>\n",
              "      <td>William Petersen</td>\n",
              "      <td>54000</td>\n",
              "      <td>Thomas Harris</td>\n",
              "      <td>1986</td>\n",
              "    </tr>\n",
              "    <tr>\n",
              "      <th>15</th>\n",
              "      <td>17000000.0</td>\n",
              "      <td>Producers Sales Organization (PSO)</td>\n",
              "      <td>USA</td>\n",
              "      <td>Adrian Lyne</td>\n",
              "      <td>Drama</td>\n",
              "      <td>6734844.0</td>\n",
              "      <td>9½ Weeks</td>\n",
              "      <td>R</td>\n",
              "      <td>1986-02-21</td>\n",
              "      <td>117</td>\n",
              "      <td>5.9</td>\n",
              "      <td>Mickey Rourke</td>\n",
              "      <td>31798</td>\n",
              "      <td>Elizabeth McNeill</td>\n",
              "      <td>1986</td>\n",
              "    </tr>\n",
              "    <tr>\n",
              "      <th>16</th>\n",
              "      <td>10000000.0</td>\n",
              "      <td>De Laurentiis Entertainment Group (DEG)</td>\n",
              "      <td>USA</td>\n",
              "      <td>Stephen King</td>\n",
              "      <td>Action</td>\n",
              "      <td>7433663.0</td>\n",
              "      <td>Maximum Overdrive</td>\n",
              "      <td>R</td>\n",
              "      <td>1986-07-25</td>\n",
              "      <td>98</td>\n",
              "      <td>5.4</td>\n",
              "      <td>Emilio Estevez</td>\n",
              "      <td>24881</td>\n",
              "      <td>Stephen King</td>\n",
              "      <td>1986</td>\n",
              "    </tr>\n",
              "    <tr>\n",
              "      <th>17</th>\n",
              "      <td>25000000.0</td>\n",
              "      <td>Geffen Company, The</td>\n",
              "      <td>USA</td>\n",
              "      <td>Frank Oz</td>\n",
              "      <td>Comedy</td>\n",
              "      <td>38747385.0</td>\n",
              "      <td>Little Shop of Horrors</td>\n",
              "      <td>PG-13</td>\n",
              "      <td>1986-12-19</td>\n",
              "      <td>94</td>\n",
              "      <td>6.9</td>\n",
              "      <td>Rick Moranis</td>\n",
              "      <td>53327</td>\n",
              "      <td>Howard Ashman</td>\n",
              "      <td>1986</td>\n",
              "    </tr>\n",
              "    <tr>\n",
              "      <th>18</th>\n",
              "      <td>2700000.0</td>\n",
              "      <td>New Century Entertainment Corporation</td>\n",
              "      <td>USA</td>\n",
              "      <td>Mike Marvin</td>\n",
              "      <td>Action</td>\n",
              "      <td>3500000.0</td>\n",
              "      <td>The Wraith</td>\n",
              "      <td>PG-13</td>\n",
              "      <td>1986-11-21</td>\n",
              "      <td>93</td>\n",
              "      <td>5.9</td>\n",
              "      <td>Charlie Sheen</td>\n",
              "      <td>11635</td>\n",
              "      <td>Mike Marvin</td>\n",
              "      <td>1986</td>\n",
              "    </tr>\n",
              "    <tr>\n",
              "      <th>19</th>\n",
              "      <td>35000000.0</td>\n",
              "      <td>Universal Pictures</td>\n",
              "      <td>USA</td>\n",
              "      <td>Willard Huyck</td>\n",
              "      <td>Action</td>\n",
              "      <td>16295774.0</td>\n",
              "      <td>Howard the Duck</td>\n",
              "      <td>PG</td>\n",
              "      <td>1986-08-01</td>\n",
              "      <td>110</td>\n",
              "      <td>4.6</td>\n",
              "      <td>Lea Thompson</td>\n",
              "      <td>36020</td>\n",
              "      <td>Steve Gerber</td>\n",
              "      <td>1986</td>\n",
              "    </tr>\n",
              "    <tr>\n",
              "      <th>20</th>\n",
              "      <td>2000000.0</td>\n",
              "      <td>New Line Cinema</td>\n",
              "      <td>USA</td>\n",
              "      <td>Stephen Herek</td>\n",
              "      <td>Action</td>\n",
              "      <td>13167232.0</td>\n",
              "      <td>Critters</td>\n",
              "      <td>PG-13</td>\n",
              "      <td>1986-04-11</td>\n",
              "      <td>82</td>\n",
              "      <td>6.0</td>\n",
              "      <td>Dee Wallace</td>\n",
              "      <td>25517</td>\n",
              "      <td>Domonic Muir</td>\n",
              "      <td>1986</td>\n",
              "    </tr>\n",
              "    <tr>\n",
              "      <th>21</th>\n",
              "      <td>11000000.0</td>\n",
              "      <td>Orion Pictures</td>\n",
              "      <td>USA</td>\n",
              "      <td>Alan Metter</td>\n",
              "      <td>Comedy</td>\n",
              "      <td>91258000.0</td>\n",
              "      <td>Back to School</td>\n",
              "      <td>PG-13</td>\n",
              "      <td>1986-06-13</td>\n",
              "      <td>96</td>\n",
              "      <td>6.6</td>\n",
              "      <td>Rodney Dangerfield</td>\n",
              "      <td>23120</td>\n",
              "      <td>Rodney Dangerfield</td>\n",
              "      <td>1986</td>\n",
              "    </tr>\n",
              "    <tr>\n",
              "      <th>22</th>\n",
              "      <td>4700000.0</td>\n",
              "      <td>Cannon Films</td>\n",
              "      <td>USA</td>\n",
              "      <td>Tobe Hooper</td>\n",
              "      <td>Comedy</td>\n",
              "      <td>8025872.0</td>\n",
              "      <td>The Texas Chainsaw Massacre 2</td>\n",
              "      <td>UNRATED</td>\n",
              "      <td>1986-08-22</td>\n",
              "      <td>89</td>\n",
              "      <td>5.6</td>\n",
              "      <td>Dennis Hopper</td>\n",
              "      <td>21253</td>\n",
              "      <td>L.M. Kit Carson</td>\n",
              "      <td>1986</td>\n",
              "    </tr>\n",
              "    <tr>\n",
              "      <th>23</th>\n",
              "      <td>15000000.0</td>\n",
              "      <td>Jay Weston Productions</td>\n",
              "      <td>USA</td>\n",
              "      <td>Clint Eastwood</td>\n",
              "      <td>Action</td>\n",
              "      <td>42724017.0</td>\n",
              "      <td>Heartbreak Ridge</td>\n",
              "      <td>R</td>\n",
              "      <td>1986-12-05</td>\n",
              "      <td>130</td>\n",
              "      <td>6.8</td>\n",
              "      <td>Clint Eastwood</td>\n",
              "      <td>32954</td>\n",
              "      <td>James Carabatsos</td>\n",
              "      <td>1986</td>\n",
              "    </tr>\n",
              "    <tr>\n",
              "      <th>24</th>\n",
              "      <td>25000000.0</td>\n",
              "      <td>Paramount Pictures</td>\n",
              "      <td>USA</td>\n",
              "      <td>Leonard Nimoy</td>\n",
              "      <td>Adventure</td>\n",
              "      <td>109713132.0</td>\n",
              "      <td>Star Trek IV: The Voyage Home</td>\n",
              "      <td>PG</td>\n",
              "      <td>1986-11-26</td>\n",
              "      <td>119</td>\n",
              "      <td>7.3</td>\n",
              "      <td>William Shatner</td>\n",
              "      <td>66366</td>\n",
              "      <td>Gene Roddenberry</td>\n",
              "      <td>1986</td>\n",
              "    </tr>\n",
              "    <tr>\n",
              "      <th>25</th>\n",
              "      <td>0.0</td>\n",
              "      <td>TriStar Pictures</td>\n",
              "      <td>USA</td>\n",
              "      <td>John Badham</td>\n",
              "      <td>Comedy</td>\n",
              "      <td>40697761.0</td>\n",
              "      <td>Short Circuit</td>\n",
              "      <td>PG</td>\n",
              "      <td>1986-05-09</td>\n",
              "      <td>98</td>\n",
              "      <td>6.6</td>\n",
              "      <td>Ally Sheedy</td>\n",
              "      <td>47068</td>\n",
              "      <td>S.S. Wilson</td>\n",
              "      <td>1986</td>\n",
              "    </tr>\n",
              "    <tr>\n",
              "      <th>26</th>\n",
              "      <td>0.0</td>\n",
              "      <td>Neue Constantin Film</td>\n",
              "      <td>Italy</td>\n",
              "      <td>Jean-Jacques Annaud</td>\n",
              "      <td>Crime</td>\n",
              "      <td>7153487.0</td>\n",
              "      <td>The Name of the Rose</td>\n",
              "      <td>R</td>\n",
              "      <td>1986-09-24</td>\n",
              "      <td>130</td>\n",
              "      <td>7.8</td>\n",
              "      <td>Sean Connery</td>\n",
              "      <td>86991</td>\n",
              "      <td>Umberto Eco</td>\n",
              "      <td>1986</td>\n",
              "    </tr>\n",
              "    <tr>\n",
              "      <th>27</th>\n",
              "      <td>0.0</td>\n",
              "      <td>TriStar Pictures</td>\n",
              "      <td>USA</td>\n",
              "      <td>Sidney J. Furie</td>\n",
              "      <td>Action</td>\n",
              "      <td>24159872.0</td>\n",
              "      <td>Iron Eagle</td>\n",
              "      <td>PG-13</td>\n",
              "      <td>1986-01-17</td>\n",
              "      <td>117</td>\n",
              "      <td>5.3</td>\n",
              "      <td>Louis Gossett Jr.</td>\n",
              "      <td>11304</td>\n",
              "      <td>Kevin Alyn Elders</td>\n",
              "      <td>1986</td>\n",
              "    </tr>\n",
              "    <tr>\n",
              "      <th>28</th>\n",
              "      <td>25000000.0</td>\n",
              "      <td>Paramount Pictures</td>\n",
              "      <td>USA</td>\n",
              "      <td>Michael Ritchie</td>\n",
              "      <td>Action</td>\n",
              "      <td>79817937.0</td>\n",
              "      <td>The Golden Child</td>\n",
              "      <td>PG-13</td>\n",
              "      <td>1986-12-12</td>\n",
              "      <td>94</td>\n",
              "      <td>5.9</td>\n",
              "      <td>Eddie Murphy</td>\n",
              "      <td>42997</td>\n",
              "      <td>Dennis Feldman</td>\n",
              "      <td>1986</td>\n",
              "    </tr>\n",
              "    <tr>\n",
              "      <th>29</th>\n",
              "      <td>1900000.0</td>\n",
              "      <td>Hemdale</td>\n",
              "      <td>USA</td>\n",
              "      <td>Tim Hunter</td>\n",
              "      <td>Crime</td>\n",
              "      <td>4600000.0</td>\n",
              "      <td>River's Edge</td>\n",
              "      <td>R</td>\n",
              "      <td>1987-05-08</td>\n",
              "      <td>99</td>\n",
              "      <td>7.1</td>\n",
              "      <td>Crispin Glover</td>\n",
              "      <td>12862</td>\n",
              "      <td>Neal Jimenez</td>\n",
              "      <td>1986</td>\n",
              "    </tr>\n",
              "    <tr>\n",
              "      <th>...</th>\n",
              "      <td>...</td>\n",
              "      <td>...</td>\n",
              "      <td>...</td>\n",
              "      <td>...</td>\n",
              "      <td>...</td>\n",
              "      <td>...</td>\n",
              "      <td>...</td>\n",
              "      <td>...</td>\n",
              "      <td>...</td>\n",
              "      <td>...</td>\n",
              "      <td>...</td>\n",
              "      <td>...</td>\n",
              "      <td>...</td>\n",
              "      <td>...</td>\n",
              "      <td>...</td>\n",
              "    </tr>\n",
              "    <tr>\n",
              "      <th>6790</th>\n",
              "      <td>26000000.0</td>\n",
              "      <td>Broad Green Pictures</td>\n",
              "      <td>USA</td>\n",
              "      <td>Mark Waters</td>\n",
              "      <td>Comedy</td>\n",
              "      <td>17664973.0</td>\n",
              "      <td>Bad Santa 2</td>\n",
              "      <td>R</td>\n",
              "      <td>2016-11-23</td>\n",
              "      <td>92</td>\n",
              "      <td>5.5</td>\n",
              "      <td>Billy Bob Thornton</td>\n",
              "      <td>13114</td>\n",
              "      <td>Johnny Rosenthal</td>\n",
              "      <td>2016</td>\n",
              "    </tr>\n",
              "    <tr>\n",
              "      <th>6791</th>\n",
              "      <td>0.0</td>\n",
              "      <td>AZ Films</td>\n",
              "      <td>Chile</td>\n",
              "      <td>Pablo Larraín</td>\n",
              "      <td>Biography</td>\n",
              "      <td>938875.0</td>\n",
              "      <td>Neruda</td>\n",
              "      <td>R</td>\n",
              "      <td>2017-03-10</td>\n",
              "      <td>107</td>\n",
              "      <td>7.0</td>\n",
              "      <td>Gael García Bernal</td>\n",
              "      <td>5680</td>\n",
              "      <td>Guillermo Calderón</td>\n",
              "      <td>2016</td>\n",
              "    </tr>\n",
              "    <tr>\n",
              "      <th>6792</th>\n",
              "      <td>130000.0</td>\n",
              "      <td>Changing Film Productions</td>\n",
              "      <td>USA</td>\n",
              "      <td>Bank Tangjaitrong</td>\n",
              "      <td>Adventure</td>\n",
              "      <td>13557.0</td>\n",
              "      <td>Till We Meet Again</td>\n",
              "      <td>NOT RATED</td>\n",
              "      <td>2016-11-25</td>\n",
              "      <td>105</td>\n",
              "      <td>6.9</td>\n",
              "      <td>John Matton</td>\n",
              "      <td>1248</td>\n",
              "      <td>John Matton</td>\n",
              "      <td>2016</td>\n",
              "    </tr>\n",
              "    <tr>\n",
              "      <th>6793</th>\n",
              "      <td>8000000.0</td>\n",
              "      <td>Cinelou Films</td>\n",
              "      <td>USA</td>\n",
              "      <td>Bruce Beresford</td>\n",
              "      <td>Comedy</td>\n",
              "      <td>685143.0</td>\n",
              "      <td>Mr. Church</td>\n",
              "      <td>PG-13</td>\n",
              "      <td>2016-09-16</td>\n",
              "      <td>104</td>\n",
              "      <td>7.7</td>\n",
              "      <td>Eddie Murphy</td>\n",
              "      <td>18249</td>\n",
              "      <td>Susan McMartin</td>\n",
              "      <td>2016</td>\n",
              "    </tr>\n",
              "    <tr>\n",
              "      <th>6794</th>\n",
              "      <td>900000.0</td>\n",
              "      <td>Hidden Empire Film Group</td>\n",
              "      <td>USA</td>\n",
              "      <td>Deon Taylor</td>\n",
              "      <td>Comedy</td>\n",
              "      <td>9093856.0</td>\n",
              "      <td>Meet the Blacks</td>\n",
              "      <td>R</td>\n",
              "      <td>2016-04-01</td>\n",
              "      <td>94</td>\n",
              "      <td>6.0</td>\n",
              "      <td>Mike Epps</td>\n",
              "      <td>18980</td>\n",
              "      <td>Nicole DeMasi</td>\n",
              "      <td>2016</td>\n",
              "    </tr>\n",
              "    <tr>\n",
              "      <th>6795</th>\n",
              "      <td>0.0</td>\n",
              "      <td>RabbitBandini Productions</td>\n",
              "      <td>USA</td>\n",
              "      <td>Justin Kelly</td>\n",
              "      <td>Crime</td>\n",
              "      <td>28505.0</td>\n",
              "      <td>King Cobra</td>\n",
              "      <td>NOT RATED</td>\n",
              "      <td>2016-10-21</td>\n",
              "      <td>91</td>\n",
              "      <td>5.6</td>\n",
              "      <td>Garrett Clayton</td>\n",
              "      <td>4894</td>\n",
              "      <td>Justin Kelly</td>\n",
              "      <td>2016</td>\n",
              "    </tr>\n",
              "    <tr>\n",
              "      <th>6796</th>\n",
              "      <td>15000000.0</td>\n",
              "      <td>Demarest Films</td>\n",
              "      <td>USA</td>\n",
              "      <td>D.J. Caruso</td>\n",
              "      <td>Drama</td>\n",
              "      <td>2411580.0</td>\n",
              "      <td>The Disappointments Room</td>\n",
              "      <td>R</td>\n",
              "      <td>2016-09-09</td>\n",
              "      <td>85</td>\n",
              "      <td>3.9</td>\n",
              "      <td>Kate Beckinsale</td>\n",
              "      <td>6287</td>\n",
              "      <td>Wentworth Miller</td>\n",
              "      <td>2016</td>\n",
              "    </tr>\n",
              "    <tr>\n",
              "      <th>6797</th>\n",
              "      <td>10000000.0</td>\n",
              "      <td>BBC Films</td>\n",
              "      <td>UK</td>\n",
              "      <td>Mick Jackson</td>\n",
              "      <td>Biography</td>\n",
              "      <td>4072226.0</td>\n",
              "      <td>Denial</td>\n",
              "      <td>PG-13</td>\n",
              "      <td>2016-10-21</td>\n",
              "      <td>109</td>\n",
              "      <td>6.6</td>\n",
              "      <td>Rachel Weisz</td>\n",
              "      <td>10848</td>\n",
              "      <td>David Hare</td>\n",
              "      <td>2016</td>\n",
              "    </tr>\n",
              "    <tr>\n",
              "      <th>6798</th>\n",
              "      <td>20000000.0</td>\n",
              "      <td>StudioCanal</td>\n",
              "      <td>UK</td>\n",
              "      <td>James Watkins</td>\n",
              "      <td>Action</td>\n",
              "      <td>39000.0</td>\n",
              "      <td>The Take</td>\n",
              "      <td>R</td>\n",
              "      <td>2016-11-18</td>\n",
              "      <td>92</td>\n",
              "      <td>6.3</td>\n",
              "      <td>Idris Elba</td>\n",
              "      <td>23717</td>\n",
              "      <td>Andrew Baldwin</td>\n",
              "      <td>2016</td>\n",
              "    </tr>\n",
              "    <tr>\n",
              "      <th>6799</th>\n",
              "      <td>18000000.0</td>\n",
              "      <td>Gold Circle Films</td>\n",
              "      <td>USA</td>\n",
              "      <td>Kirk Jones</td>\n",
              "      <td>Comedy</td>\n",
              "      <td>59573085.0</td>\n",
              "      <td>My Big Fat Greek Wedding 2</td>\n",
              "      <td>PG-13</td>\n",
              "      <td>2016-03-25</td>\n",
              "      <td>94</td>\n",
              "      <td>6.0</td>\n",
              "      <td>Nia Vardalos</td>\n",
              "      <td>22142</td>\n",
              "      <td>Nia Vardalos</td>\n",
              "      <td>2016</td>\n",
              "    </tr>\n",
              "    <tr>\n",
              "      <th>6800</th>\n",
              "      <td>17000000.0</td>\n",
              "      <td>Perfect World Pictures (Beijing)</td>\n",
              "      <td>USA</td>\n",
              "      <td>David E. Talbert</td>\n",
              "      <td>Comedy</td>\n",
              "      <td>41715860.0</td>\n",
              "      <td>Almost Christmas</td>\n",
              "      <td>PG-13</td>\n",
              "      <td>2016-11-11</td>\n",
              "      <td>111</td>\n",
              "      <td>6.0</td>\n",
              "      <td>Kimberly Elise</td>\n",
              "      <td>3366</td>\n",
              "      <td>David E. Talbert</td>\n",
              "      <td>2016</td>\n",
              "    </tr>\n",
              "    <tr>\n",
              "      <th>6801</th>\n",
              "      <td>0.0</td>\n",
              "      <td>42</td>\n",
              "      <td>UK</td>\n",
              "      <td>Johannes Roberts</td>\n",
              "      <td>Horror</td>\n",
              "      <td>2987063.0</td>\n",
              "      <td>The Other Side of the Door</td>\n",
              "      <td>R</td>\n",
              "      <td>2016-03-04</td>\n",
              "      <td>96</td>\n",
              "      <td>5.3</td>\n",
              "      <td>Sarah Wayne Callies</td>\n",
              "      <td>13615</td>\n",
              "      <td>Johannes Roberts</td>\n",
              "      <td>2016</td>\n",
              "    </tr>\n",
              "    <tr>\n",
              "      <th>6802</th>\n",
              "      <td>0.0</td>\n",
              "      <td>Mandarin Films</td>\n",
              "      <td>France</td>\n",
              "      <td>François Ozon</td>\n",
              "      <td>Drama</td>\n",
              "      <td>880474.0</td>\n",
              "      <td>Frantz</td>\n",
              "      <td>PG-13</td>\n",
              "      <td>2017-03-15</td>\n",
              "      <td>113</td>\n",
              "      <td>7.5</td>\n",
              "      <td>Pierre Niney</td>\n",
              "      <td>6634</td>\n",
              "      <td>François Ozon</td>\n",
              "      <td>2016</td>\n",
              "    </tr>\n",
              "    <tr>\n",
              "      <th>6803</th>\n",
              "      <td>5000000.0</td>\n",
              "      <td>IM Global</td>\n",
              "      <td>USA</td>\n",
              "      <td>Brad Peyton</td>\n",
              "      <td>Horror</td>\n",
              "      <td>4790573.0</td>\n",
              "      <td>Incarnate</td>\n",
              "      <td>PG-13</td>\n",
              "      <td>2016-12-02</td>\n",
              "      <td>91</td>\n",
              "      <td>5.2</td>\n",
              "      <td>Aaron Eckhart</td>\n",
              "      <td>7778</td>\n",
              "      <td>Ronnie Christensen</td>\n",
              "      <td>2016</td>\n",
              "    </tr>\n",
              "    <tr>\n",
              "      <th>6804</th>\n",
              "      <td>0.0</td>\n",
              "      <td>Digic Pictures</td>\n",
              "      <td>Japan</td>\n",
              "      <td>Takeshi Nozue</td>\n",
              "      <td>Animation</td>\n",
              "      <td>233569.0</td>\n",
              "      <td>Kingsglaive: Final Fantasy XV</td>\n",
              "      <td>PG-13</td>\n",
              "      <td>2016-07-09</td>\n",
              "      <td>110</td>\n",
              "      <td>6.9</td>\n",
              "      <td>Aaron Paul</td>\n",
              "      <td>15705</td>\n",
              "      <td>Takashi Hasegawa</td>\n",
              "      <td>2016</td>\n",
              "    </tr>\n",
              "    <tr>\n",
              "      <th>6805</th>\n",
              "      <td>0.0</td>\n",
              "      <td>Parts and Labor</td>\n",
              "      <td>USA</td>\n",
              "      <td>Joshua Marston</td>\n",
              "      <td>Drama</td>\n",
              "      <td>166827.0</td>\n",
              "      <td>Complete Unknown</td>\n",
              "      <td>R</td>\n",
              "      <td>2016-08-26</td>\n",
              "      <td>91</td>\n",
              "      <td>5.4</td>\n",
              "      <td>Erin Darke</td>\n",
              "      <td>3864</td>\n",
              "      <td>Joshua Marston</td>\n",
              "      <td>2016</td>\n",
              "    </tr>\n",
              "    <tr>\n",
              "      <th>6806</th>\n",
              "      <td>0.0</td>\n",
              "      <td>Bing Feng Bao Entertainment</td>\n",
              "      <td>USA</td>\n",
              "      <td>James Schamus</td>\n",
              "      <td>Drama</td>\n",
              "      <td>3399841.0</td>\n",
              "      <td>Indignation</td>\n",
              "      <td>R</td>\n",
              "      <td>2016-08-11</td>\n",
              "      <td>110</td>\n",
              "      <td>6.8</td>\n",
              "      <td>Logan Lerman</td>\n",
              "      <td>8479</td>\n",
              "      <td>Philip Roth</td>\n",
              "      <td>2016</td>\n",
              "    </tr>\n",
              "    <tr>\n",
              "      <th>6807</th>\n",
              "      <td>4000000.0</td>\n",
              "      <td>Blumhouse Productions</td>\n",
              "      <td>USA</td>\n",
              "      <td>Greg McLean</td>\n",
              "      <td>Horror</td>\n",
              "      <td>10732841.0</td>\n",
              "      <td>The Darkness</td>\n",
              "      <td>PG-13</td>\n",
              "      <td>2016-05-13</td>\n",
              "      <td>92</td>\n",
              "      <td>4.4</td>\n",
              "      <td>Kevin Bacon</td>\n",
              "      <td>9450</td>\n",
              "      <td>Greg McLean</td>\n",
              "      <td>2016</td>\n",
              "    </tr>\n",
              "    <tr>\n",
              "      <th>6808</th>\n",
              "      <td>3000000.0</td>\n",
              "      <td>Westerly Films</td>\n",
              "      <td>Ireland</td>\n",
              "      <td>Whit Stillman</td>\n",
              "      <td>Comedy</td>\n",
              "      <td>14013564.0</td>\n",
              "      <td>Love &amp; Friendship</td>\n",
              "      <td>PG</td>\n",
              "      <td>2016-06-03</td>\n",
              "      <td>90</td>\n",
              "      <td>6.5</td>\n",
              "      <td>Kate Beckinsale</td>\n",
              "      <td>17862</td>\n",
              "      <td>Whit Stillman</td>\n",
              "      <td>2016</td>\n",
              "    </tr>\n",
              "    <tr>\n",
              "      <th>6809</th>\n",
              "      <td>3800000.0</td>\n",
              "      <td>Sycamore Pictures</td>\n",
              "      <td>USA</td>\n",
              "      <td>John Krasinski</td>\n",
              "      <td>Comedy</td>\n",
              "      <td>1016872.0</td>\n",
              "      <td>The Hollars</td>\n",
              "      <td>PG-13</td>\n",
              "      <td>2016-08-26</td>\n",
              "      <td>88</td>\n",
              "      <td>6.5</td>\n",
              "      <td>Sharlto Copley</td>\n",
              "      <td>7227</td>\n",
              "      <td>Jim Strouse</td>\n",
              "      <td>2016</td>\n",
              "    </tr>\n",
              "    <tr>\n",
              "      <th>6810</th>\n",
              "      <td>0.0</td>\n",
              "      <td>StudioCanal</td>\n",
              "      <td>UK</td>\n",
              "      <td>Susanna White</td>\n",
              "      <td>Crime</td>\n",
              "      <td>3152725.0</td>\n",
              "      <td>Our Kind of Traitor</td>\n",
              "      <td>R</td>\n",
              "      <td>2016-09-30</td>\n",
              "      <td>108</td>\n",
              "      <td>6.2</td>\n",
              "      <td>Carlos Acosta</td>\n",
              "      <td>13857</td>\n",
              "      <td>John le Carré</td>\n",
              "      <td>2016</td>\n",
              "    </tr>\n",
              "    <tr>\n",
              "      <th>6811</th>\n",
              "      <td>8500000.0</td>\n",
              "      <td>CBS Films</td>\n",
              "      <td>USA</td>\n",
              "      <td>Steve Carr</td>\n",
              "      <td>Animation</td>\n",
              "      <td>19985196.0</td>\n",
              "      <td>Middle School: The Worst Years of My Life</td>\n",
              "      <td>PG</td>\n",
              "      <td>2016-10-07</td>\n",
              "      <td>92</td>\n",
              "      <td>6.1</td>\n",
              "      <td>Griffin Gluck</td>\n",
              "      <td>4556</td>\n",
              "      <td>Chris Bowman</td>\n",
              "      <td>2016</td>\n",
              "    </tr>\n",
              "    <tr>\n",
              "      <th>6812</th>\n",
              "      <td>0.0</td>\n",
              "      <td>Killer Films</td>\n",
              "      <td>USA</td>\n",
              "      <td>Andrew Neel</td>\n",
              "      <td>Drama</td>\n",
              "      <td>23020.0</td>\n",
              "      <td>Goat</td>\n",
              "      <td>R</td>\n",
              "      <td>2016-09-23</td>\n",
              "      <td>96</td>\n",
              "      <td>5.7</td>\n",
              "      <td>Ben Schnetzer</td>\n",
              "      <td>4439</td>\n",
              "      <td>David Gordon Green</td>\n",
              "      <td>2016</td>\n",
              "    </tr>\n",
              "    <tr>\n",
              "      <th>6813</th>\n",
              "      <td>0.0</td>\n",
              "      <td>Anna Biller Productions</td>\n",
              "      <td>USA</td>\n",
              "      <td>Anna Biller</td>\n",
              "      <td>Comedy</td>\n",
              "      <td>228894.0</td>\n",
              "      <td>The Love Witch</td>\n",
              "      <td>UNRATED</td>\n",
              "      <td>2017-03-10</td>\n",
              "      <td>120</td>\n",
              "      <td>6.2</td>\n",
              "      <td>Samantha Robinson</td>\n",
              "      <td>6054</td>\n",
              "      <td>Anna Biller</td>\n",
              "      <td>2016</td>\n",
              "    </tr>\n",
              "    <tr>\n",
              "      <th>6814</th>\n",
              "      <td>20000000.0</td>\n",
              "      <td>LD Entertainment</td>\n",
              "      <td>USA</td>\n",
              "      <td>Kevin Reynolds</td>\n",
              "      <td>Action</td>\n",
              "      <td>36874745.0</td>\n",
              "      <td>Risen</td>\n",
              "      <td>PG-13</td>\n",
              "      <td>2016-02-19</td>\n",
              "      <td>107</td>\n",
              "      <td>6.3</td>\n",
              "      <td>Joseph Fiennes</td>\n",
              "      <td>19084</td>\n",
              "      <td>Kevin Reynolds</td>\n",
              "      <td>2016</td>\n",
              "    </tr>\n",
              "    <tr>\n",
              "      <th>6815</th>\n",
              "      <td>0.0</td>\n",
              "      <td>Fox Searchlight Pictures</td>\n",
              "      <td>UK</td>\n",
              "      <td>Mandie Fletcher</td>\n",
              "      <td>Comedy</td>\n",
              "      <td>4750497.0</td>\n",
              "      <td>Absolutely Fabulous: The Movie</td>\n",
              "      <td>R</td>\n",
              "      <td>2016-07-22</td>\n",
              "      <td>91</td>\n",
              "      <td>5.4</td>\n",
              "      <td>Jennifer Saunders</td>\n",
              "      <td>9161</td>\n",
              "      <td>Jennifer Saunders</td>\n",
              "      <td>2016</td>\n",
              "    </tr>\n",
              "    <tr>\n",
              "      <th>6816</th>\n",
              "      <td>0.0</td>\n",
              "      <td>Siempre Viva Productions</td>\n",
              "      <td>USA</td>\n",
              "      <td>Paul Duddridge</td>\n",
              "      <td>Drama</td>\n",
              "      <td>28368.0</td>\n",
              "      <td>Mothers and Daughters</td>\n",
              "      <td>PG-13</td>\n",
              "      <td>2016-05-06</td>\n",
              "      <td>90</td>\n",
              "      <td>4.9</td>\n",
              "      <td>Selma Blair</td>\n",
              "      <td>1959</td>\n",
              "      <td>Paige Cameron</td>\n",
              "      <td>2016</td>\n",
              "    </tr>\n",
              "    <tr>\n",
              "      <th>6817</th>\n",
              "      <td>3500000.0</td>\n",
              "      <td>Warner Bros. Animation</td>\n",
              "      <td>USA</td>\n",
              "      <td>Sam Liu</td>\n",
              "      <td>Animation</td>\n",
              "      <td>3775000.0</td>\n",
              "      <td>Batman: The Killing Joke</td>\n",
              "      <td>R</td>\n",
              "      <td>2016-07-25</td>\n",
              "      <td>76</td>\n",
              "      <td>6.5</td>\n",
              "      <td>Kevin Conroy</td>\n",
              "      <td>36333</td>\n",
              "      <td>Brian Azzarello</td>\n",
              "      <td>2016</td>\n",
              "    </tr>\n",
              "    <tr>\n",
              "      <th>6818</th>\n",
              "      <td>0.0</td>\n",
              "      <td>Borderline Presents</td>\n",
              "      <td>USA</td>\n",
              "      <td>Nicolas Pesce</td>\n",
              "      <td>Drama</td>\n",
              "      <td>25981.0</td>\n",
              "      <td>The Eyes of My Mother</td>\n",
              "      <td>R</td>\n",
              "      <td>2016-12-02</td>\n",
              "      <td>76</td>\n",
              "      <td>6.2</td>\n",
              "      <td>Kika Magalhães</td>\n",
              "      <td>6947</td>\n",
              "      <td>Nicolas Pesce</td>\n",
              "      <td>2016</td>\n",
              "    </tr>\n",
              "    <tr>\n",
              "      <th>6819</th>\n",
              "      <td>0.0</td>\n",
              "      <td>Les Productions du Trésor</td>\n",
              "      <td>France</td>\n",
              "      <td>Nicole Garcia</td>\n",
              "      <td>Drama</td>\n",
              "      <td>37757.0</td>\n",
              "      <td>From the Land of the Moon</td>\n",
              "      <td>R</td>\n",
              "      <td>2017-07-28</td>\n",
              "      <td>120</td>\n",
              "      <td>6.7</td>\n",
              "      <td>Marion Cotillard</td>\n",
              "      <td>2411</td>\n",
              "      <td>Milena Agus</td>\n",
              "      <td>2016</td>\n",
              "    </tr>\n",
              "  </tbody>\n",
              "</table>\n",
              "<p>6820 rows × 15 columns</p>\n",
              "</div>"
            ],
            "text/plain": [
              "          budget  ...  year\n",
              "0      8000000.0  ...  1986\n",
              "1      6000000.0  ...  1986\n",
              "2     15000000.0  ...  1986\n",
              "3     18500000.0  ...  1986\n",
              "4      9000000.0  ...  1986\n",
              "5      6000000.0  ...  1986\n",
              "6     25000000.0  ...  1986\n",
              "7      6000000.0  ...  1986\n",
              "8      9000000.0  ...  1986\n",
              "9     15000000.0  ...  1986\n",
              "10     8800000.0  ...  1986\n",
              "11    16000000.0  ...  1986\n",
              "12     6000000.0  ...  1986\n",
              "13    25000000.0  ...  1986\n",
              "14    15000000.0  ...  1986\n",
              "15    17000000.0  ...  1986\n",
              "16    10000000.0  ...  1986\n",
              "17    25000000.0  ...  1986\n",
              "18     2700000.0  ...  1986\n",
              "19    35000000.0  ...  1986\n",
              "20     2000000.0  ...  1986\n",
              "21    11000000.0  ...  1986\n",
              "22     4700000.0  ...  1986\n",
              "23    15000000.0  ...  1986\n",
              "24    25000000.0  ...  1986\n",
              "25           0.0  ...  1986\n",
              "26           0.0  ...  1986\n",
              "27           0.0  ...  1986\n",
              "28    25000000.0  ...  1986\n",
              "29     1900000.0  ...  1986\n",
              "...          ...  ...   ...\n",
              "6790  26000000.0  ...  2016\n",
              "6791         0.0  ...  2016\n",
              "6792    130000.0  ...  2016\n",
              "6793   8000000.0  ...  2016\n",
              "6794    900000.0  ...  2016\n",
              "6795         0.0  ...  2016\n",
              "6796  15000000.0  ...  2016\n",
              "6797  10000000.0  ...  2016\n",
              "6798  20000000.0  ...  2016\n",
              "6799  18000000.0  ...  2016\n",
              "6800  17000000.0  ...  2016\n",
              "6801         0.0  ...  2016\n",
              "6802         0.0  ...  2016\n",
              "6803   5000000.0  ...  2016\n",
              "6804         0.0  ...  2016\n",
              "6805         0.0  ...  2016\n",
              "6806         0.0  ...  2016\n",
              "6807   4000000.0  ...  2016\n",
              "6808   3000000.0  ...  2016\n",
              "6809   3800000.0  ...  2016\n",
              "6810         0.0  ...  2016\n",
              "6811   8500000.0  ...  2016\n",
              "6812         0.0  ...  2016\n",
              "6813         0.0  ...  2016\n",
              "6814  20000000.0  ...  2016\n",
              "6815         0.0  ...  2016\n",
              "6816         0.0  ...  2016\n",
              "6817   3500000.0  ...  2016\n",
              "6818         0.0  ...  2016\n",
              "6819         0.0  ...  2016\n",
              "\n",
              "[6820 rows x 15 columns]"
            ]
          },
          "metadata": {
            "tags": []
          },
          "execution_count": 15
        }
      ]
    },
    {
      "cell_type": "code",
      "metadata": {
        "id": "3IY2qfKd3g8b",
        "colab_type": "code",
        "outputId": "029fc709-cd12-49c5-aed3-d715cde625cd",
        "colab": {
          "base_uri": "https://localhost:8080/",
          "height": 34
        }
      },
      "source": [
        "#Finding number of instances and features\n",
        "ledger.shape"
      ],
      "execution_count": 0,
      "outputs": [
        {
          "output_type": "execute_result",
          "data": {
            "text/plain": [
              "(6820, 15)"
            ]
          },
          "metadata": {
            "tags": []
          },
          "execution_count": 16
        }
      ]
    },
    {
      "cell_type": "markdown",
      "metadata": {
        "id": "Zyc21dbhzauG",
        "colab_type": "text"
      },
      "source": [
        "While going through the above data, I found out that released date , year and name of movie will be irrelevant and wont be useful for the purpose of score or how good a movie is. "
      ]
    },
    {
      "cell_type": "code",
      "metadata": {
        "id": "TmAOPF6wzL6w",
        "colab_type": "code",
        "colab": {}
      },
      "source": [
        "#Removing irrelevant features\n",
        "ledger.drop(['name','released','year'], axis = 1, inplace = True)"
      ],
      "execution_count": 0,
      "outputs": []
    },
    {
      "cell_type": "code",
      "metadata": {
        "id": "GmLWLokQ-oY1",
        "colab_type": "code",
        "outputId": "f5329363-6013-465b-a1a7-faa23324aa4a",
        "colab": {
          "base_uri": "https://localhost:8080/",
          "height": 306
        }
      },
      "source": [
        "#Features and there datatype\n",
        "ledger.info()"
      ],
      "execution_count": 0,
      "outputs": [
        {
          "output_type": "stream",
          "text": [
            "<class 'pandas.core.frame.DataFrame'>\n",
            "RangeIndex: 6820 entries, 0 to 6819\n",
            "Data columns (total 12 columns):\n",
            "budget      6820 non-null float64\n",
            "company     6820 non-null object\n",
            "country     6820 non-null object\n",
            "director    6820 non-null object\n",
            "genre       6820 non-null object\n",
            "gross       6820 non-null float64\n",
            "rating      6820 non-null object\n",
            "runtime     6820 non-null int64\n",
            "score       6820 non-null float64\n",
            "star        6820 non-null object\n",
            "votes       6820 non-null int64\n",
            "writer      6820 non-null object\n",
            "dtypes: float64(3), int64(2), object(7)\n",
            "memory usage: 639.5+ KB\n"
          ],
          "name": "stdout"
        }
      ]
    },
    {
      "cell_type": "code",
      "metadata": {
        "id": "5shCqZH_At5A",
        "colab_type": "code",
        "outputId": "cee09d4f-69c6-47d2-b4b4-139f7b762aef",
        "colab": {
          "base_uri": "https://localhost:8080/",
          "height": 34
        }
      },
      "source": [
        "#new dimensions of dataset\n",
        "ledger.shape"
      ],
      "execution_count": 0,
      "outputs": [
        {
          "output_type": "execute_result",
          "data": {
            "text/plain": [
              "(6820, 12)"
            ]
          },
          "metadata": {
            "tags": []
          },
          "execution_count": 23
        }
      ]
    },
    {
      "cell_type": "code",
      "metadata": {
        "id": "Xydry8m930Pb",
        "colab_type": "code",
        "outputId": "aef2db94-119f-4d9a-a91e-75d1527b01cf",
        "colab": {
          "base_uri": "https://localhost:8080/",
          "height": 204
        }
      },
      "source": [
        "ledger.head(5)"
      ],
      "execution_count": 0,
      "outputs": [
        {
          "output_type": "execute_result",
          "data": {
            "text/html": [
              "<div>\n",
              "<style scoped>\n",
              "    .dataframe tbody tr th:only-of-type {\n",
              "        vertical-align: middle;\n",
              "    }\n",
              "\n",
              "    .dataframe tbody tr th {\n",
              "        vertical-align: top;\n",
              "    }\n",
              "\n",
              "    .dataframe thead th {\n",
              "        text-align: right;\n",
              "    }\n",
              "</style>\n",
              "<table border=\"1\" class=\"dataframe\">\n",
              "  <thead>\n",
              "    <tr style=\"text-align: right;\">\n",
              "      <th></th>\n",
              "      <th>budget</th>\n",
              "      <th>company</th>\n",
              "      <th>country</th>\n",
              "      <th>director</th>\n",
              "      <th>genre</th>\n",
              "      <th>gross</th>\n",
              "      <th>rating</th>\n",
              "      <th>runtime</th>\n",
              "      <th>score</th>\n",
              "      <th>star</th>\n",
              "      <th>votes</th>\n",
              "      <th>writer</th>\n",
              "    </tr>\n",
              "  </thead>\n",
              "  <tbody>\n",
              "    <tr>\n",
              "      <th>0</th>\n",
              "      <td>8000000.0</td>\n",
              "      <td>Columbia Pictures Corporation</td>\n",
              "      <td>USA</td>\n",
              "      <td>Rob Reiner</td>\n",
              "      <td>Adventure</td>\n",
              "      <td>52287414.0</td>\n",
              "      <td>R</td>\n",
              "      <td>89</td>\n",
              "      <td>8.1</td>\n",
              "      <td>Wil Wheaton</td>\n",
              "      <td>299174</td>\n",
              "      <td>Stephen King</td>\n",
              "    </tr>\n",
              "    <tr>\n",
              "      <th>1</th>\n",
              "      <td>6000000.0</td>\n",
              "      <td>Paramount Pictures</td>\n",
              "      <td>USA</td>\n",
              "      <td>John Hughes</td>\n",
              "      <td>Comedy</td>\n",
              "      <td>70136369.0</td>\n",
              "      <td>PG-13</td>\n",
              "      <td>103</td>\n",
              "      <td>7.8</td>\n",
              "      <td>Matthew Broderick</td>\n",
              "      <td>264740</td>\n",
              "      <td>John Hughes</td>\n",
              "    </tr>\n",
              "    <tr>\n",
              "      <th>2</th>\n",
              "      <td>15000000.0</td>\n",
              "      <td>Paramount Pictures</td>\n",
              "      <td>USA</td>\n",
              "      <td>Tony Scott</td>\n",
              "      <td>Action</td>\n",
              "      <td>179800601.0</td>\n",
              "      <td>PG</td>\n",
              "      <td>110</td>\n",
              "      <td>6.9</td>\n",
              "      <td>Tom Cruise</td>\n",
              "      <td>236909</td>\n",
              "      <td>Jim Cash</td>\n",
              "    </tr>\n",
              "    <tr>\n",
              "      <th>3</th>\n",
              "      <td>18500000.0</td>\n",
              "      <td>Twentieth Century Fox Film Corporation</td>\n",
              "      <td>USA</td>\n",
              "      <td>James Cameron</td>\n",
              "      <td>Action</td>\n",
              "      <td>85160248.0</td>\n",
              "      <td>R</td>\n",
              "      <td>137</td>\n",
              "      <td>8.4</td>\n",
              "      <td>Sigourney Weaver</td>\n",
              "      <td>540152</td>\n",
              "      <td>James Cameron</td>\n",
              "    </tr>\n",
              "    <tr>\n",
              "      <th>4</th>\n",
              "      <td>9000000.0</td>\n",
              "      <td>Walt Disney Pictures</td>\n",
              "      <td>USA</td>\n",
              "      <td>Randal Kleiser</td>\n",
              "      <td>Adventure</td>\n",
              "      <td>18564613.0</td>\n",
              "      <td>PG</td>\n",
              "      <td>90</td>\n",
              "      <td>6.9</td>\n",
              "      <td>Joey Cramer</td>\n",
              "      <td>36636</td>\n",
              "      <td>Mark H. Baker</td>\n",
              "    </tr>\n",
              "  </tbody>\n",
              "</table>\n",
              "</div>"
            ],
            "text/plain": [
              "       budget                                 company  ...   votes         writer\n",
              "0   8000000.0           Columbia Pictures Corporation  ...  299174   Stephen King\n",
              "1   6000000.0                      Paramount Pictures  ...  264740    John Hughes\n",
              "2  15000000.0                      Paramount Pictures  ...  236909       Jim Cash\n",
              "3  18500000.0  Twentieth Century Fox Film Corporation  ...  540152  James Cameron\n",
              "4   9000000.0                    Walt Disney Pictures  ...   36636  Mark H. Baker\n",
              "\n",
              "[5 rows x 12 columns]"
            ]
          },
          "metadata": {
            "tags": []
          },
          "execution_count": 24
        }
      ]
    },
    {
      "cell_type": "code",
      "metadata": {
        "id": "mNN35okV34OX",
        "colab_type": "code",
        "outputId": "066d0340-2ebf-4162-a067-388127909093",
        "colab": {
          "base_uri": "https://localhost:8080/",
          "height": 204
        }
      },
      "source": [
        "ledger.tail(5)"
      ],
      "execution_count": 0,
      "outputs": [
        {
          "output_type": "execute_result",
          "data": {
            "text/html": [
              "<div>\n",
              "<style scoped>\n",
              "    .dataframe tbody tr th:only-of-type {\n",
              "        vertical-align: middle;\n",
              "    }\n",
              "\n",
              "    .dataframe tbody tr th {\n",
              "        vertical-align: top;\n",
              "    }\n",
              "\n",
              "    .dataframe thead th {\n",
              "        text-align: right;\n",
              "    }\n",
              "</style>\n",
              "<table border=\"1\" class=\"dataframe\">\n",
              "  <thead>\n",
              "    <tr style=\"text-align: right;\">\n",
              "      <th></th>\n",
              "      <th>budget</th>\n",
              "      <th>company</th>\n",
              "      <th>country</th>\n",
              "      <th>director</th>\n",
              "      <th>genre</th>\n",
              "      <th>gross</th>\n",
              "      <th>rating</th>\n",
              "      <th>runtime</th>\n",
              "      <th>score</th>\n",
              "      <th>star</th>\n",
              "      <th>votes</th>\n",
              "      <th>writer</th>\n",
              "    </tr>\n",
              "  </thead>\n",
              "  <tbody>\n",
              "    <tr>\n",
              "      <th>6815</th>\n",
              "      <td>0.0</td>\n",
              "      <td>Fox Searchlight Pictures</td>\n",
              "      <td>UK</td>\n",
              "      <td>Mandie Fletcher</td>\n",
              "      <td>Comedy</td>\n",
              "      <td>4750497.0</td>\n",
              "      <td>R</td>\n",
              "      <td>91</td>\n",
              "      <td>5.4</td>\n",
              "      <td>Jennifer Saunders</td>\n",
              "      <td>9161</td>\n",
              "      <td>Jennifer Saunders</td>\n",
              "    </tr>\n",
              "    <tr>\n",
              "      <th>6816</th>\n",
              "      <td>0.0</td>\n",
              "      <td>Siempre Viva Productions</td>\n",
              "      <td>USA</td>\n",
              "      <td>Paul Duddridge</td>\n",
              "      <td>Drama</td>\n",
              "      <td>28368.0</td>\n",
              "      <td>PG-13</td>\n",
              "      <td>90</td>\n",
              "      <td>4.9</td>\n",
              "      <td>Selma Blair</td>\n",
              "      <td>1959</td>\n",
              "      <td>Paige Cameron</td>\n",
              "    </tr>\n",
              "    <tr>\n",
              "      <th>6817</th>\n",
              "      <td>3500000.0</td>\n",
              "      <td>Warner Bros. Animation</td>\n",
              "      <td>USA</td>\n",
              "      <td>Sam Liu</td>\n",
              "      <td>Animation</td>\n",
              "      <td>3775000.0</td>\n",
              "      <td>R</td>\n",
              "      <td>76</td>\n",
              "      <td>6.5</td>\n",
              "      <td>Kevin Conroy</td>\n",
              "      <td>36333</td>\n",
              "      <td>Brian Azzarello</td>\n",
              "    </tr>\n",
              "    <tr>\n",
              "      <th>6818</th>\n",
              "      <td>0.0</td>\n",
              "      <td>Borderline Presents</td>\n",
              "      <td>USA</td>\n",
              "      <td>Nicolas Pesce</td>\n",
              "      <td>Drama</td>\n",
              "      <td>25981.0</td>\n",
              "      <td>R</td>\n",
              "      <td>76</td>\n",
              "      <td>6.2</td>\n",
              "      <td>Kika Magalhães</td>\n",
              "      <td>6947</td>\n",
              "      <td>Nicolas Pesce</td>\n",
              "    </tr>\n",
              "    <tr>\n",
              "      <th>6819</th>\n",
              "      <td>0.0</td>\n",
              "      <td>Les Productions du Trésor</td>\n",
              "      <td>France</td>\n",
              "      <td>Nicole Garcia</td>\n",
              "      <td>Drama</td>\n",
              "      <td>37757.0</td>\n",
              "      <td>R</td>\n",
              "      <td>120</td>\n",
              "      <td>6.7</td>\n",
              "      <td>Marion Cotillard</td>\n",
              "      <td>2411</td>\n",
              "      <td>Milena Agus</td>\n",
              "    </tr>\n",
              "  </tbody>\n",
              "</table>\n",
              "</div>"
            ],
            "text/plain": [
              "         budget                    company  ...  votes             writer\n",
              "6815        0.0   Fox Searchlight Pictures  ...   9161  Jennifer Saunders\n",
              "6816        0.0   Siempre Viva Productions  ...   1959      Paige Cameron\n",
              "6817  3500000.0     Warner Bros. Animation  ...  36333    Brian Azzarello\n",
              "6818        0.0        Borderline Presents  ...   6947      Nicolas Pesce\n",
              "6819        0.0  Les Productions du Trésor  ...   2411        Milena Agus\n",
              "\n",
              "[5 rows x 12 columns]"
            ]
          },
          "metadata": {
            "tags": []
          },
          "execution_count": 25
        }
      ]
    },
    {
      "cell_type": "markdown",
      "metadata": {
        "id": "E-Nmcz1QBFoq",
        "colab_type": "text"
      },
      "source": [
        "By going through the first and last few values of the dataset, I found out that values of 'budget' feature doesn't have missing values but lots of values are 0, but since we need this feature for analysis, the missing budget values will be taken as mean of budget."
      ]
    },
    {
      "cell_type": "code",
      "metadata": {
        "id": "N1aNz7_eL-5l",
        "colab_type": "code",
        "outputId": "d3f08646-c893-454d-c26f-a7651ac3930b",
        "colab": {
          "base_uri": "https://localhost:8080/",
          "height": 297
        }
      },
      "source": [
        "#numerical stats for features\n",
        "ledger.describe()"
      ],
      "execution_count": 0,
      "outputs": [
        {
          "output_type": "execute_result",
          "data": {
            "text/html": [
              "<div>\n",
              "<style scoped>\n",
              "    .dataframe tbody tr th:only-of-type {\n",
              "        vertical-align: middle;\n",
              "    }\n",
              "\n",
              "    .dataframe tbody tr th {\n",
              "        vertical-align: top;\n",
              "    }\n",
              "\n",
              "    .dataframe thead th {\n",
              "        text-align: right;\n",
              "    }\n",
              "</style>\n",
              "<table border=\"1\" class=\"dataframe\">\n",
              "  <thead>\n",
              "    <tr style=\"text-align: right;\">\n",
              "      <th></th>\n",
              "      <th>budget</th>\n",
              "      <th>gross</th>\n",
              "      <th>runtime</th>\n",
              "      <th>score</th>\n",
              "      <th>votes</th>\n",
              "    </tr>\n",
              "  </thead>\n",
              "  <tbody>\n",
              "    <tr>\n",
              "      <th>count</th>\n",
              "      <td>6.820000e+03</td>\n",
              "      <td>6.820000e+03</td>\n",
              "      <td>6820.00000</td>\n",
              "      <td>6820.000000</td>\n",
              "      <td>6.820000e+03</td>\n",
              "    </tr>\n",
              "    <tr>\n",
              "      <th>mean</th>\n",
              "      <td>2.458113e+07</td>\n",
              "      <td>3.349783e+07</td>\n",
              "      <td>106.55132</td>\n",
              "      <td>6.374897</td>\n",
              "      <td>7.121952e+04</td>\n",
              "    </tr>\n",
              "    <tr>\n",
              "      <th>std</th>\n",
              "      <td>3.702254e+07</td>\n",
              "      <td>5.819760e+07</td>\n",
              "      <td>18.02818</td>\n",
              "      <td>1.003142</td>\n",
              "      <td>1.305176e+05</td>\n",
              "    </tr>\n",
              "    <tr>\n",
              "      <th>min</th>\n",
              "      <td>0.000000e+00</td>\n",
              "      <td>7.000000e+01</td>\n",
              "      <td>50.00000</td>\n",
              "      <td>1.500000</td>\n",
              "      <td>2.700000e+01</td>\n",
              "    </tr>\n",
              "    <tr>\n",
              "      <th>25%</th>\n",
              "      <td>0.000000e+00</td>\n",
              "      <td>1.515839e+06</td>\n",
              "      <td>95.00000</td>\n",
              "      <td>5.800000</td>\n",
              "      <td>7.665250e+03</td>\n",
              "    </tr>\n",
              "    <tr>\n",
              "      <th>50%</th>\n",
              "      <td>1.100000e+07</td>\n",
              "      <td>1.213568e+07</td>\n",
              "      <td>102.00000</td>\n",
              "      <td>6.400000</td>\n",
              "      <td>2.589250e+04</td>\n",
              "    </tr>\n",
              "    <tr>\n",
              "      <th>75%</th>\n",
              "      <td>3.200000e+07</td>\n",
              "      <td>4.006534e+07</td>\n",
              "      <td>115.00000</td>\n",
              "      <td>7.100000</td>\n",
              "      <td>7.581225e+04</td>\n",
              "    </tr>\n",
              "    <tr>\n",
              "      <th>max</th>\n",
              "      <td>3.000000e+08</td>\n",
              "      <td>9.366622e+08</td>\n",
              "      <td>366.00000</td>\n",
              "      <td>9.300000</td>\n",
              "      <td>1.861666e+06</td>\n",
              "    </tr>\n",
              "  </tbody>\n",
              "</table>\n",
              "</div>"
            ],
            "text/plain": [
              "             budget         gross     runtime        score         votes\n",
              "count  6.820000e+03  6.820000e+03  6820.00000  6820.000000  6.820000e+03\n",
              "mean   2.458113e+07  3.349783e+07   106.55132     6.374897  7.121952e+04\n",
              "std    3.702254e+07  5.819760e+07    18.02818     1.003142  1.305176e+05\n",
              "min    0.000000e+00  7.000000e+01    50.00000     1.500000  2.700000e+01\n",
              "25%    0.000000e+00  1.515839e+06    95.00000     5.800000  7.665250e+03\n",
              "50%    1.100000e+07  1.213568e+07   102.00000     6.400000  2.589250e+04\n",
              "75%    3.200000e+07  4.006534e+07   115.00000     7.100000  7.581225e+04\n",
              "max    3.000000e+08  9.366622e+08   366.00000     9.300000  1.861666e+06"
            ]
          },
          "metadata": {
            "tags": []
          },
          "execution_count": 26
        }
      ]
    },
    {
      "cell_type": "code",
      "metadata": {
        "id": "JvLj-eVVIPw_",
        "colab_type": "code",
        "colab": {}
      },
      "source": [
        "#replacing missing budget values with mean\n",
        "new_budget = np.where(ledger[\"budget\"] == 0.0,\n",
        "                      2.458113e+07,\n",
        "                      ledger[\"budget\"])"
      ],
      "execution_count": 0,
      "outputs": []
    },
    {
      "cell_type": "code",
      "metadata": {
        "id": "JSgdfh4lNeGv",
        "colab_type": "code",
        "colab": {}
      },
      "source": [
        "ledger[\"budget\"] = new_budget"
      ],
      "execution_count": 0,
      "outputs": []
    },
    {
      "cell_type": "code",
      "metadata": {
        "id": "R5aWctTD2A9H",
        "colab_type": "code",
        "outputId": "304712b7-6a0b-4cc8-a80d-656ab42bcf39",
        "colab": {
          "base_uri": "https://localhost:8080/",
          "height": 204
        }
      },
      "source": [
        "#stats with updated budget values\n",
        "ledger.tail(5)"
      ],
      "execution_count": 0,
      "outputs": [
        {
          "output_type": "execute_result",
          "data": {
            "text/html": [
              "<div>\n",
              "<style scoped>\n",
              "    .dataframe tbody tr th:only-of-type {\n",
              "        vertical-align: middle;\n",
              "    }\n",
              "\n",
              "    .dataframe tbody tr th {\n",
              "        vertical-align: top;\n",
              "    }\n",
              "\n",
              "    .dataframe thead th {\n",
              "        text-align: right;\n",
              "    }\n",
              "</style>\n",
              "<table border=\"1\" class=\"dataframe\">\n",
              "  <thead>\n",
              "    <tr style=\"text-align: right;\">\n",
              "      <th></th>\n",
              "      <th>budget</th>\n",
              "      <th>company</th>\n",
              "      <th>country</th>\n",
              "      <th>director</th>\n",
              "      <th>genre</th>\n",
              "      <th>gross</th>\n",
              "      <th>rating</th>\n",
              "      <th>runtime</th>\n",
              "      <th>score</th>\n",
              "      <th>star</th>\n",
              "      <th>votes</th>\n",
              "      <th>writer</th>\n",
              "    </tr>\n",
              "  </thead>\n",
              "  <tbody>\n",
              "    <tr>\n",
              "      <th>6815</th>\n",
              "      <td>24581130.0</td>\n",
              "      <td>Fox Searchlight Pictures</td>\n",
              "      <td>UK</td>\n",
              "      <td>Mandie Fletcher</td>\n",
              "      <td>Comedy</td>\n",
              "      <td>4750497.0</td>\n",
              "      <td>R</td>\n",
              "      <td>91</td>\n",
              "      <td>5.4</td>\n",
              "      <td>Jennifer Saunders</td>\n",
              "      <td>9161</td>\n",
              "      <td>Jennifer Saunders</td>\n",
              "    </tr>\n",
              "    <tr>\n",
              "      <th>6816</th>\n",
              "      <td>24581130.0</td>\n",
              "      <td>Siempre Viva Productions</td>\n",
              "      <td>USA</td>\n",
              "      <td>Paul Duddridge</td>\n",
              "      <td>Drama</td>\n",
              "      <td>28368.0</td>\n",
              "      <td>PG-13</td>\n",
              "      <td>90</td>\n",
              "      <td>4.9</td>\n",
              "      <td>Selma Blair</td>\n",
              "      <td>1959</td>\n",
              "      <td>Paige Cameron</td>\n",
              "    </tr>\n",
              "    <tr>\n",
              "      <th>6817</th>\n",
              "      <td>3500000.0</td>\n",
              "      <td>Warner Bros. Animation</td>\n",
              "      <td>USA</td>\n",
              "      <td>Sam Liu</td>\n",
              "      <td>Animation</td>\n",
              "      <td>3775000.0</td>\n",
              "      <td>R</td>\n",
              "      <td>76</td>\n",
              "      <td>6.5</td>\n",
              "      <td>Kevin Conroy</td>\n",
              "      <td>36333</td>\n",
              "      <td>Brian Azzarello</td>\n",
              "    </tr>\n",
              "    <tr>\n",
              "      <th>6818</th>\n",
              "      <td>24581130.0</td>\n",
              "      <td>Borderline Presents</td>\n",
              "      <td>USA</td>\n",
              "      <td>Nicolas Pesce</td>\n",
              "      <td>Drama</td>\n",
              "      <td>25981.0</td>\n",
              "      <td>R</td>\n",
              "      <td>76</td>\n",
              "      <td>6.2</td>\n",
              "      <td>Kika Magalhães</td>\n",
              "      <td>6947</td>\n",
              "      <td>Nicolas Pesce</td>\n",
              "    </tr>\n",
              "    <tr>\n",
              "      <th>6819</th>\n",
              "      <td>24581130.0</td>\n",
              "      <td>Les Productions du Trésor</td>\n",
              "      <td>France</td>\n",
              "      <td>Nicole Garcia</td>\n",
              "      <td>Drama</td>\n",
              "      <td>37757.0</td>\n",
              "      <td>R</td>\n",
              "      <td>120</td>\n",
              "      <td>6.7</td>\n",
              "      <td>Marion Cotillard</td>\n",
              "      <td>2411</td>\n",
              "      <td>Milena Agus</td>\n",
              "    </tr>\n",
              "  </tbody>\n",
              "</table>\n",
              "</div>"
            ],
            "text/plain": [
              "          budget                    company  ...  votes             writer\n",
              "6815  24581130.0   Fox Searchlight Pictures  ...   9161  Jennifer Saunders\n",
              "6816  24581130.0   Siempre Viva Productions  ...   1959      Paige Cameron\n",
              "6817   3500000.0     Warner Bros. Animation  ...  36333    Brian Azzarello\n",
              "6818  24581130.0        Borderline Presents  ...   6947      Nicolas Pesce\n",
              "6819  24581130.0  Les Productions du Trésor  ...   2411        Milena Agus\n",
              "\n",
              "[5 rows x 12 columns]"
            ]
          },
          "metadata": {
            "tags": []
          },
          "execution_count": 31
        }
      ]
    },
    {
      "cell_type": "markdown",
      "metadata": {
        "id": "KSTx_5Tt6cDJ",
        "colab_type": "text"
      },
      "source": [
        "Plotting different features to find out intresting trends in the data."
      ]
    },
    {
      "cell_type": "code",
      "metadata": {
        "id": "yiycpRZE60jR",
        "colab_type": "code",
        "outputId": "c67254bb-7b09-4405-dbc1-447aed25991e",
        "colab": {
          "base_uri": "https://localhost:8080/",
          "height": 401
        }
      },
      "source": [
        "ledger['score'].value_counts().plot(kind='bar', figsize=[20,6])"
      ],
      "execution_count": 0,
      "outputs": [
        {
          "output_type": "execute_result",
          "data": {
            "text/plain": [
              "<matplotlib.axes._subplots.AxesSubplot at 0x7f95b9f936a0>"
            ]
          },
          "metadata": {
            "tags": []
          },
          "execution_count": 32
        },
        {
          "output_type": "display_data",
          "data": {
            "image/png": "[encoded data removed]",
            "text/plain": [
              "<Figure size 1440x432 with 1 Axes>"
            ]
          },
          "metadata": {
            "tags": []
          }
        }
      ]
    },
    {
      "cell_type": "code",
      "metadata": {
        "id": "Qhn7Q0MITYLg",
        "colab_type": "code",
        "outputId": "3c348b93-ca20-423a-db4c-49f99b02da2b",
        "colab": {
          "base_uri": "https://localhost:8080/",
          "height": 424
        }
      },
      "source": [
        "ledger.hist(column='score',\n",
        "           figsize=(10,6),\n",
        "           bins=10)"
      ],
      "execution_count": 0,
      "outputs": [
        {
          "output_type": "execute_result",
          "data": {
            "text/plain": [
              "array([[<matplotlib.axes._subplots.AxesSubplot object at 0x7f95b6fab3c8>]],\n",
              "      dtype=object)"
            ]
          },
          "metadata": {
            "tags": []
          },
          "execution_count": 43
        },
        {
          "output_type": "display_data",
          "data": {
            "image/png": "[encoded data removed]",
            "text/plain": [
              "<Figure size 720x432 with 1 Axes>"
            ]
          },
          "metadata": {
            "tags": []
          }
        }
      ]
    },
    {
      "cell_type": "code",
      "metadata": {
        "id": "O1__qyT9NpM2",
        "colab_type": "code",
        "outputId": "5a7b2e55-2ac9-4f8b-cee6-022088f97ec4",
        "colab": {
          "base_uri": "https://localhost:8080/",
          "height": 295
        }
      },
      "source": [
        "x = ledger['gross']\n",
        "y = ledger['budget']\n",
        "plt.title(\"gross vs budget\")\n",
        "plt.xlabel(\"gross\")\n",
        "plt.ylabel(\"budget\")\n",
        "plt.scatter(x,y)\n",
        "plt.show()"
      ],
      "execution_count": 0,
      "outputs": [
        {
          "output_type": "display_data",
          "data": {
            "image/png": "[encoded data removed]",
            "text/plain": [
              "<Figure size 432x288 with 1 Axes>"
            ]
          },
          "metadata": {
            "tags": []
          }
        }
      ]
    },
    {
      "cell_type": "code",
      "metadata": {
        "id": "bsmnfiWidT1p",
        "colab_type": "code",
        "outputId": "7d08a720-ccda-403b-c575-27f93d9ef9e1",
        "colab": {
          "base_uri": "https://localhost:8080/",
          "height": 424
        }
      },
      "source": [
        "ledger.hist(column='runtime',\n",
        "           figsize=(10,6),\n",
        "           bins=20)"
      ],
      "execution_count": 0,
      "outputs": [
        {
          "output_type": "execute_result",
          "data": {
            "text/plain": [
              "array([[<matplotlib.axes._subplots.AxesSubplot object at 0x7f95b7311cc0>]],\n",
              "      dtype=object)"
            ]
          },
          "metadata": {
            "tags": []
          },
          "execution_count": 40
        },
        {
          "output_type": "display_data",
          "data": {
            "image/png": "[encoded data removed]",
            "text/plain": [
              "<Figure size 720x432 with 1 Axes>"
            ]
          },
          "metadata": {
            "tags": []
          }
        }
      ]
    },
    {
      "cell_type": "code",
      "metadata": {
        "id": "bRlbpcToduwc",
        "colab_type": "code",
        "outputId": "eb6d52cf-5e6a-4d53-d0be-0db1870c47df",
        "colab": {
          "base_uri": "https://localhost:8080/",
          "height": 424
        }
      },
      "source": [
        "ledger.hist(column='votes',\n",
        "           figsize=(10,6),\n",
        "           bins=20)"
      ],
      "execution_count": 0,
      "outputs": [
        {
          "output_type": "execute_result",
          "data": {
            "text/plain": [
              "array([[<matplotlib.axes._subplots.AxesSubplot object at 0x7f1dda1d1d30>]],\n",
              "      dtype=object)"
            ]
          },
          "metadata": {
            "tags": []
          },
          "execution_count": 50
        },
        {
          "output_type": "display_data",
          "data": {
            "image/png": "[encoded data removed]",
            "text/plain": [
              "<Figure size 720x432 with 1 Axes>"
            ]
          },
          "metadata": {
            "tags": []
          }
        }
      ]
    },
    {
      "cell_type": "code",
      "metadata": {
        "id": "SNk2ZkQ5PU4X",
        "colab_type": "code",
        "outputId": "f1cda44a-155d-40a5-c954-07b291b98e02",
        "colab": {
          "base_uri": "https://localhost:8080/",
          "height": 538
        }
      },
      "source": [
        "ledger['country'].value_counts().plot(kind='bar', figsize=[20,6])"
      ],
      "execution_count": 0,
      "outputs": [
        {
          "output_type": "execute_result",
          "data": {
            "text/plain": [
              "<matplotlib.axes._subplots.AxesSubplot at 0x7f95b70f73c8>"
            ]
          },
          "metadata": {
            "tags": []
          },
          "execution_count": 42
        },
        {
          "output_type": "display_data",
          "data": {
            "image/png": "[encoded data removed]",
            "text/plain": [
              "<Figure size 1440x432 with 1 Axes>"
            ]
          },
          "metadata": {
            "tags": []
          }
        }
      ]
    },
    {
      "cell_type": "code",
      "metadata": {
        "id": "CjUl0wO5dRnm",
        "colab_type": "code",
        "outputId": "13e8c8dc-40f7-4ad9-90e7-bdad3f5122f7",
        "colab": {
          "base_uri": "https://localhost:8080/",
          "height": 437
        }
      },
      "source": [
        "ledger['genre'].value_counts().plot(kind='bar', figsize=[10,6])"
      ],
      "execution_count": 0,
      "outputs": [
        {
          "output_type": "execute_result",
          "data": {
            "text/plain": [
              "<matplotlib.axes._subplots.AxesSubplot at 0x7f1ddab40518>"
            ]
          },
          "metadata": {
            "tags": []
          },
          "execution_count": 21
        },
        {
          "output_type": "display_data",
          "data": {
            "image/png": "[encoded data removed]",
            "text/plain": [
              "<Figure size 720x432 with 1 Axes>"
            ]
          },
          "metadata": {
            "tags": []
          }
        }
      ]
    },
    {
      "cell_type": "code",
      "metadata": {
        "id": "o615vBv57jM5",
        "colab_type": "code",
        "outputId": "4ca1701f-ba19-4541-b25c-075e98081e8a",
        "colab": {
          "base_uri": "https://localhost:8080/",
          "height": 450
        }
      },
      "source": [
        "ledger['rating'].value_counts().plot(kind='bar', figsize=[10,6])"
      ],
      "execution_count": 0,
      "outputs": [
        {
          "output_type": "execute_result",
          "data": {
            "text/plain": [
              "<matplotlib.axes._subplots.AxesSubplot at 0x7f1dda0c8048>"
            ]
          },
          "metadata": {
            "tags": []
          },
          "execution_count": 53
        },
        {
          "output_type": "display_data",
          "data": {
            "image/png": "[encoded data removed]",
            "text/plain": [
              "<Figure size 720x432 with 1 Axes>"
            ]
          },
          "metadata": {
            "tags": []
          }
        }
      ]
    },
    {
      "cell_type": "code",
      "metadata": {
        "id": "q32x0QX2_ook",
        "colab_type": "code",
        "outputId": "d57478f1-935a-4bbd-8516-5a3855a2a635",
        "colab": {
          "base_uri": "https://localhost:8080/",
          "height": 565
        }
      },
      "source": [
        "ledger[\"budget\"].plot(kind=\"box\", figsize=(9,9))"
      ],
      "execution_count": 0,
      "outputs": [
        {
          "output_type": "execute_result",
          "data": {
            "text/plain": [
              "<matplotlib.axes._subplots.AxesSubplot at 0x7f1dd9f78cc0>"
            ]
          },
          "metadata": {
            "tags": []
          },
          "execution_count": 54
        },
        {
          "output_type": "display_data",
          "data": {
            "image/png": "[encoded data removed]",
            "text/plain": [
              "<Figure size 648x648 with 1 Axes>"
            ]
          },
          "metadata": {
            "tags": []
          }
        }
      ]
    },
    {
      "cell_type": "code",
      "metadata": {
        "id": "8n1QaJUMAIEp",
        "colab_type": "code",
        "colab": {}
      },
      "source": [
        "index = np.where(ledger[\"budget\"] == max(ledger[\"budget\"]))"
      ],
      "execution_count": 0,
      "outputs": []
    },
    {
      "cell_type": "code",
      "metadata": {
        "id": "Df4-WRfjAQRf",
        "colab_type": "code",
        "outputId": "2268510c-7254-4a47-a102-a0c97ec2b2e7",
        "colab": {
          "base_uri": "https://localhost:8080/",
          "height": 97
        }
      },
      "source": [
        "ledger.loc[index]"
      ],
      "execution_count": 0,
      "outputs": [
        {
          "output_type": "execute_result",
          "data": {
            "text/html": [
              "<div>\n",
              "<style scoped>\n",
              "    .dataframe tbody tr th:only-of-type {\n",
              "        vertical-align: middle;\n",
              "    }\n",
              "\n",
              "    .dataframe tbody tr th {\n",
              "        vertical-align: top;\n",
              "    }\n",
              "\n",
              "    .dataframe thead th {\n",
              "        text-align: right;\n",
              "    }\n",
              "</style>\n",
              "<table border=\"1\" class=\"dataframe\">\n",
              "  <thead>\n",
              "    <tr style=\"text-align: right;\">\n",
              "      <th></th>\n",
              "      <th>budget</th>\n",
              "      <th>company</th>\n",
              "      <th>director</th>\n",
              "      <th>genre</th>\n",
              "      <th>gross</th>\n",
              "      <th>name</th>\n",
              "      <th>rating</th>\n",
              "      <th>runtime</th>\n",
              "      <th>score</th>\n",
              "      <th>star</th>\n",
              "      <th>votes</th>\n",
              "      <th>writer</th>\n",
              "      <th>year</th>\n",
              "    </tr>\n",
              "  </thead>\n",
              "  <tbody>\n",
              "    <tr>\n",
              "      <th>4631</th>\n",
              "      <td>300000000.0</td>\n",
              "      <td>Walt Disney Pictures</td>\n",
              "      <td>Gore Verbinski</td>\n",
              "      <td>Action</td>\n",
              "      <td>309420425.0</td>\n",
              "      <td>Pirates of the Caribbean: At World's End</td>\n",
              "      <td>PG-13</td>\n",
              "      <td>169</td>\n",
              "      <td>7.1</td>\n",
              "      <td>Johnny Depp</td>\n",
              "      <td>514191</td>\n",
              "      <td>Ted Elliott</td>\n",
              "      <td>2007</td>\n",
              "    </tr>\n",
              "  </tbody>\n",
              "</table>\n",
              "</div>"
            ],
            "text/plain": [
              "           budget               company  ...       writer  year\n",
              "4631  300000000.0  Walt Disney Pictures  ...  Ted Elliott  2007\n",
              "\n",
              "[1 rows x 13 columns]"
            ]
          },
          "metadata": {
            "tags": []
          },
          "execution_count": 56
        }
      ]
    },
    {
      "cell_type": "code",
      "metadata": {
        "id": "yzIE7E8N_y7a",
        "colab_type": "code",
        "outputId": "338f17c6-63d9-4aff-d9f2-e97b2007d31d",
        "colab": {
          "base_uri": "https://localhost:8080/",
          "height": 565
        }
      },
      "source": [
        "ledger[\"gross\"].plot(kind=\"box\", figsize=(9,9))"
      ],
      "execution_count": 0,
      "outputs": [
        {
          "output_type": "execute_result",
          "data": {
            "text/plain": [
              "<matplotlib.axes._subplots.AxesSubplot at 0x7f1dd9eaf278>"
            ]
          },
          "metadata": {
            "tags": []
          },
          "execution_count": 57
        },
        {
          "output_type": "display_data",
          "data": {
            "image/png": "[encoded data removed]",
            "text/plain": [
              "<Figure size 648x648 with 1 Axes>"
            ]
          },
          "metadata": {
            "tags": []
          }
        }
      ]
    },
    {
      "cell_type": "code",
      "metadata": {
        "id": "IiPyqPc-AYR5",
        "colab_type": "code",
        "colab": {}
      },
      "source": [
        "index = np.where(ledger[\"gross\"] == max(ledger[\"gross\"]))"
      ],
      "execution_count": 0,
      "outputs": []
    },
    {
      "cell_type": "code",
      "metadata": {
        "id": "ycf6SrCiAfSl",
        "colab_type": "code",
        "outputId": "8d347578-2f9f-4eb8-946e-7f4453ce8f35",
        "colab": {
          "base_uri": "https://localhost:8080/",
          "height": 80
        }
      },
      "source": [
        "ledger.loc[index]"
      ],
      "execution_count": 0,
      "outputs": [
        {
          "output_type": "execute_result",
          "data": {
            "text/html": [
              "<div>\n",
              "<style scoped>\n",
              "    .dataframe tbody tr th:only-of-type {\n",
              "        vertical-align: middle;\n",
              "    }\n",
              "\n",
              "    .dataframe tbody tr th {\n",
              "        vertical-align: top;\n",
              "    }\n",
              "\n",
              "    .dataframe thead th {\n",
              "        text-align: right;\n",
              "    }\n",
              "</style>\n",
              "<table border=\"1\" class=\"dataframe\">\n",
              "  <thead>\n",
              "    <tr style=\"text-align: right;\">\n",
              "      <th></th>\n",
              "      <th>budget</th>\n",
              "      <th>company</th>\n",
              "      <th>director</th>\n",
              "      <th>genre</th>\n",
              "      <th>gross</th>\n",
              "      <th>name</th>\n",
              "      <th>rating</th>\n",
              "      <th>runtime</th>\n",
              "      <th>score</th>\n",
              "      <th>star</th>\n",
              "      <th>votes</th>\n",
              "      <th>writer</th>\n",
              "      <th>year</th>\n",
              "    </tr>\n",
              "  </thead>\n",
              "  <tbody>\n",
              "    <tr>\n",
              "      <th>6380</th>\n",
              "      <td>245000000.0</td>\n",
              "      <td>Lucasfilm</td>\n",
              "      <td>J.J. Abrams</td>\n",
              "      <td>Action</td>\n",
              "      <td>936662225.0</td>\n",
              "      <td>Star Wars: The Force Awakens</td>\n",
              "      <td>PG-13</td>\n",
              "      <td>136</td>\n",
              "      <td>8.1</td>\n",
              "      <td>Daisy Ridley</td>\n",
              "      <td>687192</td>\n",
              "      <td>Lawrence Kasdan</td>\n",
              "      <td>2015</td>\n",
              "    </tr>\n",
              "  </tbody>\n",
              "</table>\n",
              "</div>"
            ],
            "text/plain": [
              "           budget    company     director  ...   votes           writer  year\n",
              "6380  245000000.0  Lucasfilm  J.J. Abrams  ...  687192  Lawrence Kasdan  2015\n",
              "\n",
              "[1 rows x 13 columns]"
            ]
          },
          "metadata": {
            "tags": []
          },
          "execution_count": 59
        }
      ]
    },
    {
      "cell_type": "markdown",
      "metadata": {
        "id": "K2KeDsLf-Y6Y",
        "colab_type": "text"
      },
      "source": [
        "Intresting patterns found out:\n",
        "\n",
        "\n",
        "1. Most movies have imdb rating/score between 6-7.\n",
        "2. More the budget ,more the gross/profit.\n",
        "3. Most movies have a runtime of ~80 to 120 minutes.\n",
        "4. Most movie scores are based on ~100K votes. \n",
        "5.70% of movies are from USA.\n",
        "6. Most movies have comedy genre.\n",
        "7. Most movies are \"R\" rated.\n",
        "8. ~0.6e8 to ~1.2e8 is the budget for most movies.\n",
        "9. ~0.1e9 to ~0.38e9 is the gross for most movies.\n",
        "10. Movie with the highest budget isnt the the highest grosser,nor the highest rating.\n",
        "11. The highest grosser movie is PG-13 , is of action genre, has 136 minutes of runtime and is lying in the highest number of votes.  \n",
        "Thus the relationships between the factors is approximate. \n",
        "A model that would be able to judge a movie between poor and excellent based on these factors will be useful. It'll be easy for the user to judge a movie by its category too as he'll know at the first look of the category whether to wacth the movie or not rather than score which can get confusing at times. Since I want to predict the quality of a movie based on the factors, classification models would prove useful as it'll help categorize the movie."
      ]
    }
  ]
}